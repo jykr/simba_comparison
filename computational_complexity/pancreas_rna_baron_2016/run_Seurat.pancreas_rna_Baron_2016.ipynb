{
 "cells": [
  {
   "cell_type": "code",
   "execution_count": 1,
   "id": "972172d4",
   "metadata": {
    "scrolled": true
   },
   "outputs": [
    {
     "name": "stdout",
     "output_type": "stream",
     "text": [
      "Available memory: 393 Gb\n",
      "Available vCPUs: 24\n"
     ]
    }
   ],
   "source": [
    "import performance_benchmark as pb"
   ]
  },
  {
   "cell_type": "code",
   "execution_count": 2,
   "id": "d064aa67",
   "metadata": {},
   "outputs": [
    {
     "name": "stdout",
     "output_type": "stream",
     "text": [
      "AnnData object with n_obs × n_vars = 8569 × 15558\n",
      "    obs: 'cell_type1'\n",
      "    var: 'feature_symbol'\n"
     ]
    }
   ],
   "source": [
    "adata = pb.data.rna_baron_2016()"
   ]
  },
  {
   "cell_type": "markdown",
   "id": "087fdd3b",
   "metadata": {},
   "source": [
    "### Prepare data for Seurat"
   ]
  },
  {
   "cell_type": "code",
   "execution_count": 3,
   "id": "c6e38e46",
   "metadata": {},
   "outputs": [],
   "source": [
    "from anndata import AnnData\n",
    "base_path = \"./result_simba/data/rna_baron2016\"\n",
    "\n",
    "AnnData(adata.X).write_h5ad(\".\".join([base_path, \"h5ad\"]))\n",
    "\n",
    "obs_path = \".\".join([base_path, \"obs_df.csv\"])\n",
    "var_path = \".\".join([base_path, \"var_df.csv\"])\n",
    "\n",
    "adata.obs.reset_index().rename({\"index\": \"barcodes\"}, axis=1).to_csv(obs_path)\n",
    "adata.var.reset_index().rename({\"index\": \"gene_names\"}, axis=1).to_csv(var_path)"
   ]
  },
  {
   "cell_type": "code",
   "execution_count": 4,
   "id": "0a2c744f",
   "metadata": {},
   "outputs": [],
   "source": [
    "RData = pb.data.RDataPaths(\n",
    "    name=\"pancreas_rna_baron2016\",\n",
    "    path=base_path,\n",
    ")"
   ]
  },
  {
   "cell_type": "code",
   "execution_count": 5,
   "id": "a96d6a52",
   "metadata": {
    "scrolled": true
   },
   "outputs": [
    {
     "data": {
      "application/vnd.jupyter.widget-view+json": {
       "model_id": "54290af6be6345b39a47189ae17a144a",
       "version_major": 2,
       "version_minor": 0
      },
      "text/plain": [
       "  0%|          | 0/4 [00:00<?, ?it/s]"
      ]
     },
     "metadata": {},
     "output_type": "display_data"
    }
   ],
   "source": [
    "seurat_outs = pb.methods.seurat(config=RData, n_iters=4)"
   ]
  },
  {
   "cell_type": "code",
   "execution_count": null,
   "id": "c253a3dd",
   "metadata": {},
   "outputs": [],
   "source": []
  }
 ],
 "metadata": {
  "kernelspec": {
   "display_name": "Python [conda env:simba_dev]",
   "language": "python",
   "name": "conda-env-simba_dev-py"
  },
  "language_info": {
   "codemirror_mode": {
    "name": "ipython",
    "version": 3
   },
   "file_extension": ".py",
   "mimetype": "text/x-python",
   "name": "python",
   "nbconvert_exporter": "python",
   "pygments_lexer": "ipython3",
   "version": "3.9.13"
  }
 },
 "nbformat": 4,
 "nbformat_minor": 5
}
