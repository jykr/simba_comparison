{
 "cells": [
  {
   "cell_type": "code",
   "execution_count": 1,
   "id": "972172d4",
   "metadata": {},
   "outputs": [
    {
     "name": "stdout",
     "output_type": "stream",
     "text": [
      "Available memory: 393 Gb\n",
      "Available vCPUs: 24\n"
     ]
    }
   ],
   "source": [
    "import performance_benchmark as pb"
   ]
  },
  {
   "cell_type": "code",
   "execution_count": 2,
   "id": "d064aa67",
   "metadata": {},
   "outputs": [
    {
     "name": "stdout",
     "output_type": "stream",
     "text": [
      "AnnData object with n_obs × n_vars = 2700 × 32738\n"
     ]
    }
   ],
   "source": [
    "adata = pb.data.rna_10x_pbmcs_3k()"
   ]
  },
  {
   "cell_type": "code",
   "execution_count": 3,
   "id": "a96d6a52",
   "metadata": {
    "scrolled": true
   },
   "outputs": [
    {
     "data": {
      "application/vnd.jupyter.widget-view+json": {
       "model_id": "5634986a74f34625961952871a4773e2",
       "version_major": 2,
       "version_minor": 0
      },
      "text/plain": [
       "  0%|          | 0/4 [00:00<?, ?it/s]"
      ]
     },
     "metadata": {},
     "output_type": "display_data"
    },
    {
     "name": "stdout",
     "output_type": "stream",
     "text": [
      "\u001b[1mSuccessfully saved to\u001b[0m: ./scanpy_benchmark_results/rna_10x_PBMCs_3k/benchmark_results.zip\n",
      "Total size (bytes): 2139\n",
      "\u001b[1mSuccessfully saved to\u001b[0m: ./scanpy_benchmark_results/rna_10x_PBMCs_3k_1/benchmark_results.zip\n",
      "Total size (bytes): 2139\n",
      "\u001b[1mSuccessfully saved to\u001b[0m: ./scanpy_benchmark_results/rna_10x_PBMCs_3k_2/benchmark_results.zip\n",
      "Total size (bytes): 2139\n",
      "\u001b[1mSuccessfully saved to\u001b[0m: ./scanpy_benchmark_results/rna_10x_PBMCs_3k_3/benchmark_results.zip\n",
      "Total size (bytes): 2139\n"
     ]
    }
   ],
   "source": [
    "scanpy_outs = pb.methods.scanpy(adata, n_iters=4, dataset=\"rna_10x_PBMCs_3k\")"
   ]
  }
 ],
 "metadata": {
  "kernelspec": {
   "display_name": "Python [conda env:simba_dev]",
   "language": "python",
   "name": "conda-env-simba_dev-py"
  },
  "language_info": {
   "codemirror_mode": {
    "name": "ipython",
    "version": 3
   },
   "file_extension": ".py",
   "mimetype": "text/x-python",
   "name": "python",
   "nbconvert_exporter": "python",
   "pygments_lexer": "ipython3",
   "version": "3.9.13"
  }
 },
 "nbformat": 4,
 "nbformat_minor": 5
}
