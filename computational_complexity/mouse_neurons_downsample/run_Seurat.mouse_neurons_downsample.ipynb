{
 "cells": [
  {
   "cell_type": "code",
   "execution_count": 1,
   "id": "88f18c7b",
   "metadata": {},
   "outputs": [
    {
     "name": "stdout",
     "output_type": "stream",
     "text": [
      "Available memory: 393 Gb\n",
      "Available vCPUs: 24\n"
     ]
    },
    {
     "data": {
      "application/javascript": [
       "\n",
       "            setTimeout(function() {\n",
       "                var nbb_cell_id = 1;\n",
       "                var nbb_unformatted_code = \"%load_ext nb_black\\n\\nimport performance_benchmark as pb\";\n",
       "                var nbb_formatted_code = \"%load_ext nb_black\\n\\nimport performance_benchmark as pb\";\n",
       "                var nbb_cells = Jupyter.notebook.get_cells();\n",
       "                for (var i = 0; i < nbb_cells.length; ++i) {\n",
       "                    if (nbb_cells[i].input_prompt_number == nbb_cell_id) {\n",
       "                        if (nbb_cells[i].get_text() == nbb_unformatted_code) {\n",
       "                             nbb_cells[i].set_text(nbb_formatted_code);\n",
       "                        }\n",
       "                        break;\n",
       "                    }\n",
       "                }\n",
       "            }, 500);\n",
       "            "
      ],
      "text/plain": [
       "<IPython.core.display.Javascript object>"
      ]
     },
     "metadata": {},
     "output_type": "display_data"
    }
   ],
   "source": [
    "%load_ext nb_black\n",
    "\n",
    "import performance_benchmark as pb"
   ]
  },
  {
   "cell_type": "code",
   "execution_count": 2,
   "id": "bb844d9a",
   "metadata": {},
   "outputs": [
    {
     "name": "stderr",
     "output_type": "stream",
     "text": [
      "/home/mvinyard/.anaconda3/envs/simba_dev/lib/python3.9/site-packages/anndata/_core/anndata.py:1830: UserWarning: Variable names are not unique. To make them unique, call `.var_names_make_unique`.\n",
      "  utils.warn_names_duplicates(\"var\")\n"
     ]
    },
    {
     "name": "stdout",
     "output_type": "stream",
     "text": [
      "AnnData object with n_obs × n_vars = 1306127 × 27998\n",
      "    obs: 'Cluster'\n",
      "    var: 'gene_ids'\n"
     ]
    },
    {
     "data": {
      "application/javascript": [
       "\n",
       "            setTimeout(function() {\n",
       "                var nbb_cell_id = 2;\n",
       "                var nbb_unformatted_code = \"adata = pb.data.read_1M_neurons()\";\n",
       "                var nbb_formatted_code = \"adata = pb.data.read_1M_neurons()\";\n",
       "                var nbb_cells = Jupyter.notebook.get_cells();\n",
       "                for (var i = 0; i < nbb_cells.length; ++i) {\n",
       "                    if (nbb_cells[i].input_prompt_number == nbb_cell_id) {\n",
       "                        if (nbb_cells[i].get_text() == nbb_unformatted_code) {\n",
       "                             nbb_cells[i].set_text(nbb_formatted_code);\n",
       "                        }\n",
       "                        break;\n",
       "                    }\n",
       "                }\n",
       "            }, 500);\n",
       "            "
      ],
      "text/plain": [
       "<IPython.core.display.Javascript object>"
      ]
     },
     "metadata": {},
     "output_type": "display_data"
    }
   ],
   "source": [
    "adata = pb.data.read_1M_neurons()"
   ]
  },
  {
   "cell_type": "code",
   "execution_count": 3,
   "id": "b05811e2",
   "metadata": {},
   "outputs": [
    {
     "data": {
      "application/javascript": [
       "\n",
       "            setTimeout(function() {\n",
       "                var nbb_cell_id = 3;\n",
       "                var nbb_unformatted_code = \"N_cells = [\\n#     500,\\n#     1_000,\\n#     2_500,\\n#     5_000,\\n#     10_000,\\n#     25_000,\\n#     50_000,\\n#     100_000,\\n    250_000,\\n    500_000,\\n    1_000_000,\\n    adata.shape[0],\\n]\";\n",
       "                var nbb_formatted_code = \"N_cells = [\\n    #     500,\\n    #     1_000,\\n    #     2_500,\\n    #     5_000,\\n    #     10_000,\\n    #     25_000,\\n    #     50_000,\\n    #     100_000,\\n    250_000,\\n    500_000,\\n    1_000_000,\\n    adata.shape[0],\\n]\";\n",
       "                var nbb_cells = Jupyter.notebook.get_cells();\n",
       "                for (var i = 0; i < nbb_cells.length; ++i) {\n",
       "                    if (nbb_cells[i].input_prompt_number == nbb_cell_id) {\n",
       "                        if (nbb_cells[i].get_text() == nbb_unformatted_code) {\n",
       "                             nbb_cells[i].set_text(nbb_formatted_code);\n",
       "                        }\n",
       "                        break;\n",
       "                    }\n",
       "                }\n",
       "            }, 500);\n",
       "            "
      ],
      "text/plain": [
       "<IPython.core.display.Javascript object>"
      ]
     },
     "metadata": {},
     "output_type": "display_data"
    }
   ],
   "source": [
    "N_cells = [\n",
    "    500,\n",
    "    1_000,\n",
    "    2_500,\n",
    "    5_000,\n",
    "    10_000,\n",
    "    25_000,\n",
    "    50_000,\n",
    "    100_000,\n",
    "    250_000,\n",
    "    500_000,\n",
    "    1_000_000,\n",
    "    adata.shape[0],\n",
    "]"
   ]
  },
  {
   "cell_type": "code",
   "execution_count": null,
   "id": "2af94a1d",
   "metadata": {},
   "outputs": [
    {
     "name": "stdout",
     "output_type": "stream",
     "text": [
      "AnnData object with n_obs × n_vars = 250000 × 27998\n",
      "    obs: 'Cluster'\n",
      "    var: 'gene_ids'\n",
      "\n",
      "AnnData written to: ../data/1M_neurons/for_seurat.250000cells.h5ad\n",
      ".var DataFrame written to: ../data/1M_neurons/for_seurat.250000cells.var_df.csv\n",
      ".obs DataFrame written to: ../data/1M_neurons/for_seurat.250000cells.obs_df.csv\n",
      "\n",
      "Data Verified: True\n"
     ]
    },
    {
     "data": {
      "application/vnd.jupyter.widget-view+json": {
       "model_id": "7e6694755df648ddb6be0ac0a6083ab3",
       "version_major": 2,
       "version_minor": 0
      },
      "text/plain": [
       "  0%|          | 0/4 [00:00<?, ?it/s]"
      ]
     },
     "metadata": {},
     "output_type": "display_data"
    },
    {
     "name": "stdout",
     "output_type": "stream",
     "text": [
      "AnnData object with n_obs × n_vars = 500000 × 27998\n",
      "    obs: 'Cluster'\n",
      "    var: 'gene_ids'\n",
      "\n",
      "AnnData written to: ../data/1M_neurons/for_seurat.500000cells.h5ad\n",
      ".var DataFrame written to: ../data/1M_neurons/for_seurat.500000cells.var_df.csv\n",
      ".obs DataFrame written to: ../data/1M_neurons/for_seurat.500000cells.obs_df.csv\n",
      "\n",
      "Data Verified: True\n"
     ]
    },
    {
     "data": {
      "application/vnd.jupyter.widget-view+json": {
       "model_id": "5081e312a8924115b908b24053bebad0",
       "version_major": 2,
       "version_minor": 0
      },
      "text/plain": [
       "  0%|          | 0/4 [00:00<?, ?it/s]"
      ]
     },
     "metadata": {},
     "output_type": "display_data"
    },
    {
     "name": "stdout",
     "output_type": "stream",
     "text": [
      " - [ WARNING ] | There was a problem writing / collecting Seurat iteration: 0...\n"
     ]
    },
    {
     "name": "stderr",
     "output_type": "stream",
     "text": [
      "\n",
      "KeyboardInterrupt\n",
      "\n"
     ]
    }
   ],
   "source": [
    "# 500 through 100k cells were run in a previous kernel\n",
    "for n_cells in N_cells:\n",
    "    RData = pb.data.downsample(\n",
    "            adata,\n",
    "            n=n_cells,\n",
    "            random_state=617,\n",
    "            base_path_for_seurat=\"../data/1M_neurons/for_seurat\",\n",
    "            name=\"mouse_neurons_downsample.{}cells\".format(n_cells),\n",
    "        )\n",
    "    print(\"\\nData Verified: {}\".format(RData.verify_paths()))\n",
    "    seurat_outs = pb.methods.seurat(config=RData, n_iters=4)        "
   ]
  }
 ],
 "metadata": {
  "kernelspec": {
   "display_name": "Python [conda env:simba_dev]",
   "language": "python",
   "name": "conda-env-simba_dev-py"
  },
  "language_info": {
   "codemirror_mode": {
    "name": "ipython",
    "version": 3
   },
   "file_extension": ".py",
   "mimetype": "text/x-python",
   "name": "python",
   "nbconvert_exporter": "python",
   "pygments_lexer": "ipython3",
   "version": "3.9.13"
  }
 },
 "nbformat": 4,
 "nbformat_minor": 5
}
