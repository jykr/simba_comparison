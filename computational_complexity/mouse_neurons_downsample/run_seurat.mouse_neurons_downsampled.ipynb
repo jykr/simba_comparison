{
 "cells": [
  {
   "cell_type": "code",
   "execution_count": 1,
   "id": "af01d1ad",
   "metadata": {},
   "outputs": [
    {
     "name": "stdout",
     "output_type": "stream",
     "text": [
      "GPUTrainingCoordinator: GPU INSTALLED\n",
      "Available memory: 491 Gb\n",
      "Available vCPUs: 24\n"
     ]
    }
   ],
   "source": [
    "import performance_benchmark as pb"
   ]
  },
  {
   "cell_type": "code",
   "execution_count": 2,
   "id": "46446ba8",
   "metadata": {},
   "outputs": [
    {
     "name": "stdout",
     "output_type": "stream",
     "text": [
      "\n",
      "Memory tracing background thread:\n",
      "---------------------------------\n",
      "Identity: 139899069961792\n",
      "Name: child procs\n",
      "Native ID: 99901\n",
      "Writing memory trace to: simba.background_memory_trace.2.txt\n"
     ]
    }
   ],
   "source": [
    "memory_trace_path = pb.core.memory_trace()"
   ]
  },
  {
   "cell_type": "code",
   "execution_count": 3,
   "id": "7722e496",
   "metadata": {},
   "outputs": [
    {
     "name": "stderr",
     "output_type": "stream",
     "text": [
      "/home/mvinyard/.anaconda3/envs/simba_dev/lib/python3.9/site-packages/anndata/_core/anndata.py:1830: UserWarning: Variable names are not unique. To make them unique, call `.var_names_make_unique`.\n",
      "  utils.warn_names_duplicates(\"var\")\n"
     ]
    },
    {
     "name": "stdout",
     "output_type": "stream",
     "text": [
      "AnnData object with n_obs × n_vars = 1306127 × 27998\n",
      "    obs: 'Cluster'\n",
      "    var: 'gene_ids'\n"
     ]
    }
   ],
   "source": [
    "adata = pb.data.read_1M_neurons()"
   ]
  },
  {
   "cell_type": "code",
   "execution_count": 4,
   "id": "a55a8a7c",
   "metadata": {},
   "outputs": [],
   "source": [
    "N_cells = [\n",
    "    500,\n",
    "    1_000,\n",
    "    2_500,\n",
    "    5_000,\n",
    "    10_000,\n",
    "    25_000,\n",
    "    50_000,\n",
    "    100_000,\n",
    "    250_000,\n",
    "    500_000,\n",
    "    1_000_000,\n",
    "    adata.shape[0],\n",
    "]"
   ]
  },
  {
   "cell_type": "code",
   "execution_count": null,
   "id": "022588e4",
   "metadata": {},
   "outputs": [
    {
     "name": "stdout",
     "output_type": "stream",
     "text": [
      "AnnData object with n_obs × n_vars = 500 × 27998\n",
      "    obs: 'Cluster'\n",
      "    var: 'gene_ids'\n",
      "\n",
      "AnnData written to: ../data/1M_neurons/for_seurat.500cells.h5ad\n",
      ".var DataFrame written to: ../data/1M_neurons/for_seurat.500cells.var_df.csv\n",
      ".obs DataFrame written to: ../data/1M_neurons/for_seurat.500cells.obs_df.csv\n",
      "\n",
      "Data Verified: True\n"
     ]
    },
    {
     "data": {
      "application/vnd.jupyter.widget-view+json": {
       "model_id": "cccc47710a1949169f0188629bd23368",
       "version_major": 2,
       "version_minor": 0
      },
      "text/plain": [
       "  0%|          | 0/4 [00:00<?, ?it/s]"
      ]
     },
     "metadata": {},
     "output_type": "display_data"
    },
    {
     "name": "stdout",
     "output_type": "stream",
     "text": [
      "AnnData object with n_obs × n_vars = 1000 × 27998\n",
      "    obs: 'Cluster'\n",
      "    var: 'gene_ids'\n",
      "\n",
      "AnnData written to: ../data/1M_neurons/for_seurat.1000cells.h5ad\n",
      ".var DataFrame written to: ../data/1M_neurons/for_seurat.1000cells.var_df.csv\n",
      ".obs DataFrame written to: ../data/1M_neurons/for_seurat.1000cells.obs_df.csv\n",
      "\n",
      "Data Verified: True\n"
     ]
    },
    {
     "data": {
      "application/vnd.jupyter.widget-view+json": {
       "model_id": "b359940046c4401aad86d0568bd3c2d8",
       "version_major": 2,
       "version_minor": 0
      },
      "text/plain": [
       "  0%|          | 0/4 [00:00<?, ?it/s]"
      ]
     },
     "metadata": {},
     "output_type": "display_data"
    },
    {
     "name": "stdout",
     "output_type": "stream",
     "text": [
      "AnnData object with n_obs × n_vars = 2500 × 27998\n",
      "    obs: 'Cluster'\n",
      "    var: 'gene_ids'\n",
      "\n",
      "AnnData written to: ../data/1M_neurons/for_seurat.2500cells.h5ad\n",
      ".var DataFrame written to: ../data/1M_neurons/for_seurat.2500cells.var_df.csv\n",
      ".obs DataFrame written to: ../data/1M_neurons/for_seurat.2500cells.obs_df.csv\n",
      "\n",
      "Data Verified: True\n"
     ]
    },
    {
     "data": {
      "application/vnd.jupyter.widget-view+json": {
       "model_id": "7b0965b6f62a4f16b143e80fc4a25544",
       "version_major": 2,
       "version_minor": 0
      },
      "text/plain": [
       "  0%|          | 0/4 [00:00<?, ?it/s]"
      ]
     },
     "metadata": {},
     "output_type": "display_data"
    },
    {
     "name": "stdout",
     "output_type": "stream",
     "text": [
      "AnnData object with n_obs × n_vars = 5000 × 27998\n",
      "    obs: 'Cluster'\n",
      "    var: 'gene_ids'\n",
      "\n",
      "AnnData written to: ../data/1M_neurons/for_seurat.5000cells.h5ad\n",
      ".var DataFrame written to: ../data/1M_neurons/for_seurat.5000cells.var_df.csv\n",
      ".obs DataFrame written to: ../data/1M_neurons/for_seurat.5000cells.obs_df.csv\n",
      "\n",
      "Data Verified: True\n"
     ]
    },
    {
     "data": {
      "application/vnd.jupyter.widget-view+json": {
       "model_id": "3bf9e554bbbb4c5bb2b9476de762b53d",
       "version_major": 2,
       "version_minor": 0
      },
      "text/plain": [
       "  0%|          | 0/4 [00:00<?, ?it/s]"
      ]
     },
     "metadata": {},
     "output_type": "display_data"
    },
    {
     "name": "stdout",
     "output_type": "stream",
     "text": [
      "AnnData object with n_obs × n_vars = 10000 × 27998\n",
      "    obs: 'Cluster'\n",
      "    var: 'gene_ids'\n",
      "\n",
      "AnnData written to: ../data/1M_neurons/for_seurat.10000cells.h5ad\n",
      ".var DataFrame written to: ../data/1M_neurons/for_seurat.10000cells.var_df.csv\n",
      ".obs DataFrame written to: ../data/1M_neurons/for_seurat.10000cells.obs_df.csv\n",
      "\n",
      "Data Verified: True\n"
     ]
    },
    {
     "data": {
      "application/vnd.jupyter.widget-view+json": {
       "model_id": "f3a862c968a34c4eb7ce036055d47049",
       "version_major": 2,
       "version_minor": 0
      },
      "text/plain": [
       "  0%|          | 0/4 [00:00<?, ?it/s]"
      ]
     },
     "metadata": {},
     "output_type": "display_data"
    },
    {
     "name": "stdout",
     "output_type": "stream",
     "text": [
      "AnnData object with n_obs × n_vars = 25000 × 27998\n",
      "    obs: 'Cluster'\n",
      "    var: 'gene_ids'\n",
      "\n",
      "AnnData written to: ../data/1M_neurons/for_seurat.25000cells.h5ad\n",
      ".var DataFrame written to: ../data/1M_neurons/for_seurat.25000cells.var_df.csv\n",
      ".obs DataFrame written to: ../data/1M_neurons/for_seurat.25000cells.obs_df.csv\n",
      "\n",
      "Data Verified: True\n"
     ]
    },
    {
     "data": {
      "application/vnd.jupyter.widget-view+json": {
       "model_id": "61624f2791644e25897018743c9fa520",
       "version_major": 2,
       "version_minor": 0
      },
      "text/plain": [
       "  0%|          | 0/4 [00:00<?, ?it/s]"
      ]
     },
     "metadata": {},
     "output_type": "display_data"
    },
    {
     "name": "stdout",
     "output_type": "stream",
     "text": [
      "AnnData object with n_obs × n_vars = 50000 × 27998\n",
      "    obs: 'Cluster'\n",
      "    var: 'gene_ids'\n",
      "\n",
      "AnnData written to: ../data/1M_neurons/for_seurat.50000cells.h5ad\n",
      ".var DataFrame written to: ../data/1M_neurons/for_seurat.50000cells.var_df.csv\n",
      ".obs DataFrame written to: ../data/1M_neurons/for_seurat.50000cells.obs_df.csv\n",
      "\n",
      "Data Verified: True\n"
     ]
    },
    {
     "data": {
      "application/vnd.jupyter.widget-view+json": {
       "model_id": "9587c587ab9a480e91f098cd85b3c135",
       "version_major": 2,
       "version_minor": 0
      },
      "text/plain": [
       "  0%|          | 0/4 [00:00<?, ?it/s]"
      ]
     },
     "metadata": {},
     "output_type": "display_data"
    },
    {
     "name": "stdout",
     "output_type": "stream",
     "text": [
      "AnnData object with n_obs × n_vars = 100000 × 27998\n",
      "    obs: 'Cluster'\n",
      "    var: 'gene_ids'\n",
      "\n",
      "AnnData written to: ../data/1M_neurons/for_seurat.100000cells.h5ad\n",
      ".var DataFrame written to: ../data/1M_neurons/for_seurat.100000cells.var_df.csv\n",
      ".obs DataFrame written to: ../data/1M_neurons/for_seurat.100000cells.obs_df.csv\n",
      "\n",
      "Data Verified: True\n"
     ]
    },
    {
     "data": {
      "application/vnd.jupyter.widget-view+json": {
       "model_id": "8bd5890e47014a8eaa8846254fc1a8a2",
       "version_major": 2,
       "version_minor": 0
      },
      "text/plain": [
       "  0%|          | 0/4 [00:00<?, ?it/s]"
      ]
     },
     "metadata": {},
     "output_type": "display_data"
    },
    {
     "name": "stdout",
     "output_type": "stream",
     "text": [
      "AnnData object with n_obs × n_vars = 250000 × 27998\n",
      "    obs: 'Cluster'\n",
      "    var: 'gene_ids'\n",
      "\n",
      "AnnData written to: ../data/1M_neurons/for_seurat.250000cells.h5ad\n",
      ".var DataFrame written to: ../data/1M_neurons/for_seurat.250000cells.var_df.csv\n",
      ".obs DataFrame written to: ../data/1M_neurons/for_seurat.250000cells.obs_df.csv\n",
      "\n",
      "Data Verified: True\n"
     ]
    },
    {
     "data": {
      "application/vnd.jupyter.widget-view+json": {
       "model_id": "1d122f9b68da447490285b74f255d06b",
       "version_major": 2,
       "version_minor": 0
      },
      "text/plain": [
       "  0%|          | 0/4 [00:00<?, ?it/s]"
      ]
     },
     "metadata": {},
     "output_type": "display_data"
    },
    {
     "name": "stdout",
     "output_type": "stream",
     "text": [
      "AnnData object with n_obs × n_vars = 500000 × 27998\n",
      "    obs: 'Cluster'\n",
      "    var: 'gene_ids'\n",
      "\n",
      "AnnData written to: ../data/1M_neurons/for_seurat.500000cells.h5ad\n",
      ".var DataFrame written to: ../data/1M_neurons/for_seurat.500000cells.var_df.csv\n",
      ".obs DataFrame written to: ../data/1M_neurons/for_seurat.500000cells.obs_df.csv\n",
      "\n",
      "Data Verified: True\n"
     ]
    },
    {
     "data": {
      "application/vnd.jupyter.widget-view+json": {
       "model_id": "b4389af386ba46ca9b37cb22c64806b9",
       "version_major": 2,
       "version_minor": 0
      },
      "text/plain": [
       "  0%|          | 0/4 [00:00<?, ?it/s]"
      ]
     },
     "metadata": {},
     "output_type": "display_data"
    }
   ],
   "source": [
    "for n_cells in N_cells:\n",
    "    RData = pb.data.downsample(\n",
    "            adata,\n",
    "            n=n_cells,\n",
    "            random_state=617,\n",
    "            base_path_for_seurat=\"../data/1M_neurons/for_seurat\",\n",
    "            name=\"mouse_neurons_downsample.{}cells\".format(n_cells),\n",
    "        )\n",
    "    print(\"\\nData Verified: {}\".format(RData.verify_paths()))\n",
    "    seurat_outs = pb.methods.seurat(config=RData, n_iters=4)   "
   ]
  },
  {
   "cell_type": "code",
   "execution_count": null,
   "id": "8c7ac0cc",
   "metadata": {},
   "outputs": [],
   "source": []
  }
 ],
 "metadata": {
  "kernelspec": {
   "display_name": "Python [conda env:simba_dev]",
   "language": "python",
   "name": "conda-env-simba_dev-py"
  },
  "language_info": {
   "codemirror_mode": {
    "name": "ipython",
    "version": 3
   },
   "file_extension": ".py",
   "mimetype": "text/x-python",
   "name": "python",
   "nbconvert_exporter": "python",
   "pygments_lexer": "ipython3",
   "version": "3.9.13"
  }
 },
 "nbformat": 4,
 "nbformat_minor": 5
}
