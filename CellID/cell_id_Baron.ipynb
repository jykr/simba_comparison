{
 "cells": [
  {
   "cell_type": "markdown",
   "id": "9930ee53",
   "metadata": {},
   "source": [
    "https://satijalab.org/seurat/articles/pbmc3k_tutorial.html\n",
    "https://rauselllab.github.io/CelliD//vignettes/vign.html#obtaining-pancreatic-cell-type-gene-signatures"
   ]
  },
  {
   "cell_type": "code",
   "execution_count": 13,
   "id": "f8678c4a",
   "metadata": {},
   "outputs": [],
   "source": [
    "library(CelliD)\n",
    "library(tidyverse)\n",
    "library(ggpubr)\n",
    "library(comprehenr)\n",
    "library(dplyr)\n",
    "library(reshape2)\n",
    "library(RColorBrewer)\n",
    "library(reticulate)"
   ]
  },
  {
   "cell_type": "code",
   "execution_count": 2,
   "id": "3dd0f495",
   "metadata": {},
   "outputs": [],
   "source": [
    "BaronMatrix   <- readRDS(url(\"https://storage.googleapis.com/cellid-cbl/BaronMatrix.rds\"))\n",
    "BaronMetaData <- readRDS(url(\"https://storage.googleapis.com/cellid-cbl/BaronMetaData.rds\"))"
   ]
  },
  {
   "cell_type": "code",
   "execution_count": 3,
   "id": "c663072b",
   "metadata": {},
   "outputs": [],
   "source": [
    "BaronMatrixProt <- BaronMatrix[rownames(BaronMatrix) %in% HgProteinCodingGenes,]"
   ]
  },
  {
   "cell_type": "code",
   "execution_count": 4,
   "id": "6e01976a",
   "metadata": {},
   "outputs": [
    {
     "name": "stderr",
     "output_type": "stream",
     "text": [
      "Centering and scaling data matrix\n",
      "\n"
     ]
    }
   ],
   "source": [
    "Baron <- CreateSeuratObject(counts = BaronMatrixProt, project = \"Baron\", min.cells = 5, meta.data = BaronMetaData)\n",
    "Baron <- NormalizeData(Baron)\n",
    "Baron <- ScaleData(Baron, features = rownames(Baron))"
   ]
  },
  {
   "cell_type": "code",
   "execution_count": 5,
   "id": "118c7f04",
   "metadata": {},
   "outputs": [
    {
     "name": "stderr",
     "output_type": "stream",
     "text": [
      "Computing Fuzzy Matrix\n",
      "\n"
     ]
    },
    {
     "name": "stdout",
     "output_type": "stream",
     "text": [
      "6.152 sec elapsed\n"
     ]
    },
    {
     "name": "stderr",
     "output_type": "stream",
     "text": [
      "Computing SVD\n",
      "\n"
     ]
    },
    {
     "name": "stdout",
     "output_type": "stream",
     "text": [
      "22.758 sec elapsed\n"
     ]
    },
    {
     "name": "stderr",
     "output_type": "stream",
     "text": [
      "Computing Coordinates\n",
      "\n"
     ]
    },
    {
     "name": "stdout",
     "output_type": "stream",
     "text": [
      "2.091 sec elapsed\n"
     ]
    }
   ],
   "source": [
    "Baron <- RunMCA(Baron)"
   ]
  },
  {
   "cell_type": "markdown",
   "id": "f0afa977",
   "metadata": {},
   "source": [
    "### Obtaining reference gene set\n"
   ]
  },
  {
   "cell_type": "markdown",
   "id": "4ab97c02",
   "metadata": {},
   "source": [
    "#### pancreas cell type\n",
    "\n"
   ]
  },
  {
   "cell_type": "code",
   "execution_count": 6,
   "id": "90b77d5b",
   "metadata": {},
   "outputs": [
    {
     "name": "stderr",
     "output_type": "stream",
     "text": [
      "\u001b[1mRows: \u001b[22m\u001b[34m8286\u001b[39m \u001b[1mColumns: \u001b[22m\u001b[34m14\u001b[39m\n",
      "\u001b[36m──\u001b[39m \u001b[1mColumn specification\u001b[22m \u001b[36m────────────────────────────────────────────────────────\u001b[39m\n",
      "\u001b[1mDelimiter:\u001b[22m \"\\t\"\n",
      "\u001b[31mchr\u001b[39m (8): species, official gene symbol, cell type, nicknames, product descri...\n",
      "\u001b[32mdbl\u001b[39m (6): ubiquitousness index, canonical marker, sensitivity_human, sensitiv...\n",
      "\n",
      "\u001b[36mℹ\u001b[39m Use `spec()` to retrieve the full column specification for this data.\n",
      "\u001b[36mℹ\u001b[39m Specify the column types or set `show_col_types = FALSE` to quiet this message.\n"
     ]
    }
   ],
   "source": [
    "# download all cell-type gene signatures from panglaoDB\n",
    "panglao <- read_tsv(\"https://panglaodb.se/markers/PanglaoDB_markers_27_Mar_2020.tsv.gz\")\n"
   ]
  },
  {
   "cell_type": "code",
   "execution_count": 7,
   "id": "a3c66627",
   "metadata": {},
   "outputs": [],
   "source": [
    "# restricting the analysis to pancreas specific gene signatues\n",
    "panglao_pancreas <- panglao %>% filter(organ == \"Pancreas\")\n",
    "\n",
    "\n",
    "# restricting to human specific genes\n",
    "panglao_pancreas <- panglao_pancreas %>%  filter(str_detect(species,\"Hs\"))\n",
    "\n",
    "# converting dataframes into a list of vectors, which is the format needed as input for CellID\n",
    "panglao_pancreas <- panglao_pancreas %>%  \n",
    "  group_by(`cell type`) %>%  \n",
    "  summarise(geneset = list(`official gene symbol`))\n",
    "pancreas_gs <- setNames(panglao_pancreas$geneset, panglao_pancreas$`cell type`)"
   ]
  },
  {
   "cell_type": "markdown",
   "id": "37aca5ca",
   "metadata": {},
   "source": [
    "#### All cell types\n"
   ]
  },
  {
   "cell_type": "code",
   "execution_count": 8,
   "id": "3b16ec7a",
   "metadata": {},
   "outputs": [],
   "source": [
    "#filter to get human specific genes\n",
    "panglao_all <- panglao %>%  filter(str_detect(species,\"Hs\"))\n",
    "\n",
    "# convert dataframes to a list of named vectors which is the format for CellID input\n",
    "panglao_all <- panglao_all %>%  \n",
    "  group_by(`cell type`) %>%  \n",
    "  summarise(geneset = list(`official gene symbol`))\n",
    "all_gs <- setNames(panglao_all$geneset, panglao_all$`cell type`)\n",
    "\n",
    "#remove very short signatures\n",
    "all_gs <- all_gs[sapply(all_gs, length) >= 10]"
   ]
  },
  {
   "cell_type": "markdown",
   "id": "ba058383",
   "metadata": {},
   "source": [
    "Check how to feed simba marker into RunCellHGT"
   ]
  },
  {
   "cell_type": "markdown",
   "id": "62a7e82b",
   "metadata": {},
   "source": [
    "From https://github.com/RausellLab/CelliD/blob/master/R/hyper.R\n"
   ]
  },
  {
   "cell_type": "code",
   "execution_count": 9,
   "id": "66ae0c33",
   "metadata": {},
   "outputs": [],
   "source": [
    "RunCellHGT_custom <-\n",
    "    function(X, pathways, reduction = \"mca\", n.features = 200, features = NULL, dims = seq(50), minSize = 10, log.trans = TRUE, p.adjust = TRUE, cg_distance = NULL) {\n",
    "        #DT <- GetCellGeneDistance(X, dims = dims, features = features, reduction = reduction)\n",
    "        require(Matrix)\n",
    "        DT <- cg_distance\n",
    "        message(\"ranking genes\")\n",
    "        features <- rownames(DT)\n",
    "        cells <- colnames(DT)\n",
    "\n",
    "        # Target ------------------------------------------------------------------\n",
    "        i <- pbapply::pbapply(DT, 2, order)[seq(n.features), ]\n",
    "        j <- rep(seq(ncol(DT)), each = n.features)\n",
    "        TargetMatrix <- sparseMatrix(i, j, x = 1, dims = c(length(features), length(cells)), dimnames = list(features, cells))\n",
    "\n",
    "        # Geneset -----------------------------------------------------------------\n",
    "        nPathInit <- length(pathways)\n",
    "        pathways <- lapply(pathways, function(x) x[x %in% features])\n",
    "        pathways <- pathways[vapply(pathways, function(x) length(x) >= minSize, FUN.VALUE = logical(1))]\n",
    "        nPathEnd <- length(pathways)\n",
    "        nFiltPath <- nPathInit - nPathEnd\n",
    "        if(nPathEnd == 0){\n",
    "            stop(cat(\"All pathways have less than {minSize} features in common with the data\"))\n",
    "        }\n",
    "        message(cat(\"{nPathEnd} pathways kept for hypergeometric test out of {nPathInit}, {nFiltPath} filtered as less than {minSize} features was present in the data\"))\n",
    "        message(\"\\ncalculating features overlap\\n\")\n",
    "        PathwayMat <- pbapply::pbsapply(pathways, function(x) which(features %in% x), simplify = FALSE)\n",
    "        PathwayLen <- unlist(lapply(PathwayMat, length))\n",
    "        j <- rep(seq(length(PathwayMat)), times = PathwayLen)\n",
    "        PathwayMatrix <- sparseMatrix(unlist(PathwayMat), j, x = 1, dims = c(length(features), length(PathwayMat)), dimnames = list(features, names(PathwayMat)))\n",
    "\n",
    "        # Hypergeo ----------------------------------------------------------------\n",
    "        q <- as.data.frame((t(TargetMatrix) %*% PathwayMatrix) - 1)\n",
    "        m <- vapply(pathways, function(x) sum(x %in% features), FUN.VALUE = numeric(1))\n",
    "        n <- vapply(m, function(x) length(features) - x, FUN.VALUE = numeric(1))\n",
    "        k <- n.features\n",
    "        message(\"performing hypergeometric test\\n\")\n",
    "        A <- pbapply::pbmapply(\n",
    "            FUN = function(q, m, n, k) {\n",
    "                listhyper <- phyper(seq(-1, max(q)), m, n, k, lower.tail = FALSE)[q + 2]\n",
    "                return(listhyper)\n",
    "            },\n",
    "            q = q,\n",
    "            m = m,\n",
    "            n = n,\n",
    "            k = k\n",
    "        )\n",
    "        rownames(A) <- rownames(q)\n",
    "        A <- t(A)\n",
    "        if (p.adjust) {\n",
    "            A <- apply(A, 2, function(x) p.adjust(x, \"BH\"))\n",
    "        }\n",
    "        if (log.trans) {\n",
    "            A <- as.sparse(as.matrix(-log10(A)))\n",
    "        }\n",
    "        return(A)\n",
    "    }"
   ]
  },
  {
   "cell_type": "markdown",
   "id": "907437a9",
   "metadata": {},
   "source": [
    "### Load SIMBA result"
   ]
  },
  {
   "cell_type": "code",
   "execution_count": 10,
   "id": "5d25b9e2",
   "metadata": {},
   "outputs": [],
   "source": [
    "simba_cell_annot <- read.csv(\"baron_cells.txt\")\n",
    "simba_gene_annot <- read.csv(\"baron_genes.txt\")"
   ]
  },
  {
   "cell_type": "code",
   "execution_count": 14,
   "id": "290f2cf7",
   "metadata": {},
   "outputs": [],
   "source": [
    "np <- import(\"numpy\")\n",
    "load_np_matrix <- function(npz_path, row_annot=rownames(simba_cell_annot), col_annot=simba_gene_annot$X){\n",
    "    npz <- np$load(npz_path)\n",
    "    matrix <- npz[['arr_0']]\n",
    "    rownames(matrix) <- row_annot\n",
    "    colnames(matrix) <- col_annot\n",
    "    gc_matrix = t(matrix)\n",
    "    gc_matrix_aligned <- gc_matrix[match(rownames(Baron_common), rownames(gc_matrix)), match(colnames(Baron_common), colnames(gc_matrix))]\n",
    "    return(gc_matrix_aligned)\n",
    "}"
   ]
  },
  {
   "cell_type": "code",
   "execution_count": 17,
   "id": "6628b0ef",
   "metadata": {},
   "outputs": [],
   "source": [
    "Baron_common <- subset(Baron, features=rownames(Baron)[!is.na(match(rownames(Baron), simba_gene_annot))])"
   ]
  },
  {
   "cell_type": "code",
   "execution_count": 21,
   "id": "04d7c804",
   "metadata": {},
   "outputs": [
    {
     "name": "stderr",
     "output_type": "stream",
     "text": [
      "Computing Fuzzy Matrix\n",
      "\n"
     ]
    },
    {
     "name": "stdout",
     "output_type": "stream",
     "text": [
      "6.13 sec elapsed\n"
     ]
    },
    {
     "name": "stderr",
     "output_type": "stream",
     "text": [
      "Computing SVD\n",
      "\n"
     ]
    },
    {
     "name": "stdout",
     "output_type": "stream",
     "text": [
      "23.644 sec elapsed\n"
     ]
    },
    {
     "name": "stderr",
     "output_type": "stream",
     "text": [
      "Computing Coordinates\n",
      "\n"
     ]
    },
    {
     "name": "stdout",
     "output_type": "stream",
     "text": [
      "1.902 sec elapsed\n"
     ]
    }
   ],
   "source": [
    "Baron_common <- RunMCA(Baron_common)"
   ]
  },
  {
   "cell_type": "code",
   "execution_count": 18,
   "id": "4c776df5",
   "metadata": {},
   "outputs": [],
   "source": [
    "simba_raw_score <- load_np_matrix('baron_cmp_norm.npz')\n",
    "simba_norm_score <- load_np_matrix('baron_cmp_norm.npz')\n",
    "simba_softmax_score <- load_np_matrix('baron_cmp_softmax.npz')"
   ]
  },
  {
   "cell_type": "markdown",
   "id": "e0d87f5f",
   "metadata": {},
   "source": [
    "As simba provides similarity instead of dissimilarity or distance between cells and genes, we provide negative similarity score as the distance.\n"
   ]
  },
  {
   "cell_type": "code",
   "execution_count": 19,
   "id": "604b6467",
   "metadata": {},
   "outputs": [],
   "source": [
    "get_signif_prediction_perf <- function(n_features_list, simba_matrix, calculate_cellid = FALSE, pathways=pancreas_gs, sig_cutoff=TRUE){\n",
    "    cell_id_pred <- list()\n",
    "    simba_pred <- list()\n",
    "    cell_id_perfs <- c()\n",
    "    simba_perfs <- c()\n",
    "    cell_id_perfs_ct <- list()\n",
    "    simba_perfs_ct <- list()\n",
    "    for (n.features in n_features_list){\n",
    "        message(paste0(\"Calculating for \", n.features, \" features\"))\n",
    "        if(calculate_cellid){\n",
    "            HGT_pancreas_gs <- RunCellHGT(Baron_common, pathways = pathways, dims = 1:50, n.features = n.features)\n",
    "\n",
    "            # For each cell, assess the signature with the lowest corrected p-value (max -log10 corrected p-value)\n",
    "            pancreas_gs_prediction <- rownames(HGT_pancreas_gs)[apply(HGT_pancreas_gs, 2, which.max)]\n",
    "\n",
    "            # For each cell, evaluate if the lowest p-value is significant\n",
    "            if(sig_cutoff){\n",
    "                pancreas_gs_prediction_signif <- ifelse(apply(HGT_pancreas_gs, 2, max)>2, yes = pancreas_gs_prediction, \"unassigned\")} else{\n",
    "                pancreas_gs_prediction_signif <- pancreas_gs_prediction\n",
    "            }\n",
    "\n",
    "            # Save cell type predictions as metadata within the Seurat object\n",
    "            Baron_common$pancreas_gs_prediction <- pancreas_gs_prediction_signif\n",
    "            cell_id_pred <- c(cell_id_pred, list(pancreas_gs_prediction_signif))\n",
    "            cellid_perf <- sum(Baron_common[['cell.type']] == Baron_common$pancreas_gs_prediction)/nrow(Baron_common[['cell.type']])\n",
    "            cell_id_perfs <- c(cell_id_perfs, cellid_perf)\n",
    "            message(cellid_perf)\n",
    "\n",
    "            df = Baron_common[['cell.type']]\n",
    "            df['pred'] = Baron_common[['cell.type']] == Baron_common$pancreas_gs_prediction\n",
    "            cellid_perf_ct <- df %>% group_by(cell.type) %>% summarise(mean(pred),sum(pred))\n",
    "            cell_id_perfs_ct <- c(cell_id_perfs_ct, list(cellid_perf_ct))\n",
    "        }\n",
    "        HGT_simba <- RunCellHGT_custom(Baron_common, pathways = pathways, dims = 1:50, n.features = n.features, cg_distance=-simba_matrix)\n",
    "        simba_gs_prediction <- rownames(HGT_simba)[apply(HGT_simba, 2, which.max)]\n",
    "\n",
    "        if(sig_cutoff){\n",
    "        simba_gs_prediction_signif <- ifelse(apply(HGT_pancreas_gs, 2, max)>2, yes = simba_gs_prediction, \"unassigned\")\n",
    "            }else{\n",
    "            simba_gs_prediction_signif <- simba_gs_prediction\n",
    "        }\n",
    "\n",
    "        # Save cell type predictions as metadata within the Seurat object\n",
    "        Baron_common$simba_gs_prediction <- simba_gs_prediction_signif\n",
    "        simba_pred <- c(simba_pred, list(simba_gs_prediction_signif))\n",
    "        simba_perf <- sum(Baron_common[['cell.type']] == Baron_common$simba_gs_prediction)/nrow(Baron_common[['cell.type']])\n",
    "        simba_perfs <- c(simba_perfs, simba_perf)\n",
    "        message(simba_perf)\n",
    "\n",
    "        df = Baron_common[['cell.type']]\n",
    "        df['pred'] = Baron_common[['cell.type']] == Baron_common$simba_gs_prediction\n",
    "        simba_perf_ct <- df %>% group_by(cell.type) %>% summarise(mean(pred),sum(pred))\n",
    "        simba_perfs_ct <- c(simba_perfs_ct, list(simba_perf_ct))\n",
    "    }\n",
    "    return(list(cell_id_pred, simba_pred, cell_id_perfs, simba_perfs, cell_id_perfs_ct, simba_perfs_ct))\n",
    "}"
   ]
  },
  {
   "cell_type": "code",
   "execution_count": 22,
   "id": "aaf9d501",
   "metadata": {},
   "outputs": [
    {
     "name": "stderr",
     "output_type": "stream",
     "text": [
      "Calculating for 10 features\n",
      "\n",
      "\n",
      "calculating distance\n",
      "\n",
      "\n",
      "ranking genes\n",
      "\n",
      "141 pathways kept for hypergeometric test out of 151, 10 filtered as less than 10 features was present in the data\n",
      "\n",
      "\n",
      "calculating features overlap\n",
      "\n",
      "\n",
      "performing hypergeometric test\n",
      "\n",
      "\n",
      "0.27039327809546\n",
      "\n",
      "Loading required package: Matrix\n",
      "\n",
      "\n",
      "Attaching package: ‘Matrix’\n",
      "\n",
      "\n",
      "The following objects are masked from ‘package:tidyr’:\n",
      "\n",
      "    expand, pack, unpack\n",
      "\n",
      "\n",
      "The following object is masked from ‘package:S4Vectors’:\n",
      "\n",
      "    expand\n",
      "\n",
      "\n",
      "ranking genes\n",
      "\n"
     ]
    },
    {
     "name": "stdout",
     "output_type": "stream",
     "text": [
      "{nPathEnd} pathways kept for hypergeometric test out of {nPathInit}, {nFiltPath} filtered as less than {minSize} features was present in the data"
     ]
    },
    {
     "name": "stderr",
     "output_type": "stream",
     "text": [
      "\n",
      "\n",
      "\n",
      "calculating features overlap\n",
      "\n",
      "\n",
      "performing hypergeometric test\n",
      "\n",
      "\n",
      "0.598903022523048\n",
      "\n",
      "Calculating for 50 features\n",
      "\n",
      "\n",
      "calculating distance\n",
      "\n",
      "\n",
      "ranking genes\n",
      "\n",
      "141 pathways kept for hypergeometric test out of 151, 10 filtered as less than 10 features was present in the data\n",
      "\n",
      "\n",
      "calculating features overlap\n",
      "\n",
      "\n",
      "performing hypergeometric test\n",
      "\n",
      "\n",
      "0.554090325592251\n",
      "\n",
      "ranking genes\n",
      "\n"
     ]
    },
    {
     "name": "stdout",
     "output_type": "stream",
     "text": [
      "{nPathEnd} pathways kept for hypergeometric test out of {nPathInit}, {nFiltPath} filtered as less than {minSize} features was present in the data"
     ]
    },
    {
     "name": "stderr",
     "output_type": "stream",
     "text": [
      "\n",
      "\n",
      "\n",
      "calculating features overlap\n",
      "\n",
      "\n",
      "performing hypergeometric test\n",
      "\n",
      "\n",
      "0.773369121251021\n",
      "\n",
      "Calculating for 100 features\n",
      "\n",
      "\n",
      "calculating distance\n",
      "\n",
      "\n",
      "ranking genes\n",
      "\n",
      "141 pathways kept for hypergeometric test out of 151, 10 filtered as less than 10 features was present in the data\n",
      "\n",
      "\n",
      "calculating features overlap\n",
      "\n",
      "\n",
      "performing hypergeometric test\n",
      "\n",
      "\n",
      "0.649083907107014\n",
      "\n",
      "ranking genes\n",
      "\n"
     ]
    },
    {
     "name": "stdout",
     "output_type": "stream",
     "text": [
      "{nPathEnd} pathways kept for hypergeometric test out of {nPathInit}, {nFiltPath} filtered as less than {minSize} features was present in the data"
     ]
    },
    {
     "name": "stderr",
     "output_type": "stream",
     "text": [
      "\n",
      "\n",
      "\n",
      "calculating features overlap\n",
      "\n",
      "\n",
      "performing hypergeometric test\n",
      "\n",
      "\n",
      "0.802427354417085\n",
      "\n",
      "Calculating for 200 features\n",
      "\n",
      "\n",
      "calculating distance\n",
      "\n",
      "\n",
      "ranking genes\n",
      "\n",
      "141 pathways kept for hypergeometric test out of 151, 10 filtered as less than 10 features was present in the data\n",
      "\n",
      "\n",
      "calculating features overlap\n",
      "\n",
      "\n",
      "performing hypergeometric test\n",
      "\n",
      "\n",
      "0.718753646866612\n",
      "\n",
      "ranking genes\n",
      "\n"
     ]
    },
    {
     "name": "stdout",
     "output_type": "stream",
     "text": [
      "{nPathEnd} pathways kept for hypergeometric test out of {nPathInit}, {nFiltPath} filtered as less than {minSize} features was present in the data"
     ]
    },
    {
     "name": "stderr",
     "output_type": "stream",
     "text": [
      "\n",
      "\n",
      "\n",
      "calculating features overlap\n",
      "\n",
      "\n",
      "performing hypergeometric test\n",
      "\n",
      "\n",
      "0.818415217644999\n",
      "\n",
      "Calculating for 500 features\n",
      "\n",
      "\n",
      "calculating distance\n",
      "\n",
      "\n",
      "ranking genes\n",
      "\n",
      "141 pathways kept for hypergeometric test out of 151, 10 filtered as less than 10 features was present in the data\n",
      "\n",
      "\n",
      "calculating features overlap\n",
      "\n",
      "\n",
      "performing hypergeometric test\n",
      "\n",
      "\n",
      "0.760298751312872\n",
      "\n",
      "ranking genes\n",
      "\n"
     ]
    },
    {
     "name": "stdout",
     "output_type": "stream",
     "text": [
      "{nPathEnd} pathways kept for hypergeometric test out of {nPathInit}, {nFiltPath} filtered as less than {minSize} features was present in the data"
     ]
    },
    {
     "name": "stderr",
     "output_type": "stream",
     "text": [
      "\n",
      "\n",
      "\n",
      "calculating features overlap\n",
      "\n",
      "\n",
      "performing hypergeometric test\n",
      "\n",
      "\n",
      "0.841405064768351\n",
      "\n",
      "Calculating for 1000 features\n",
      "\n",
      "\n",
      "calculating distance\n",
      "\n",
      "\n",
      "ranking genes\n",
      "\n",
      "141 pathways kept for hypergeometric test out of 151, 10 filtered as less than 10 features was present in the data\n",
      "\n",
      "\n",
      "calculating features overlap\n",
      "\n",
      "\n",
      "performing hypergeometric test\n",
      "\n",
      "\n",
      "0.772085424203524\n",
      "\n",
      "ranking genes\n",
      "\n"
     ]
    },
    {
     "name": "stdout",
     "output_type": "stream",
     "text": [
      "{nPathEnd} pathways kept for hypergeometric test out of {nPathInit}, {nFiltPath} filtered as less than {minSize} features was present in the data"
     ]
    },
    {
     "name": "stderr",
     "output_type": "stream",
     "text": [
      "\n",
      "\n",
      "\n",
      "calculating features overlap\n",
      "\n",
      "\n",
      "performing hypergeometric test\n",
      "\n",
      "\n",
      "0.847590150542654\n",
      "\n"
     ]
    }
   ],
   "source": [
    "n_features=c(10, 50, 100, 200, 500, 1000)\n",
    "res_list <- get_signif_prediction_perf(n_features, simba_softmax_score, TRUE, all_gs, FALSE)\n",
    "cellid_ct_perf <- res_list[[5]]\n",
    "simba_ct_perf <- res_list[[6]]"
   ]
  },
  {
   "cell_type": "code",
   "execution_count": 39,
   "id": "0e91fedd",
   "metadata": {},
   "outputs": [],
   "source": [
    "cell_counts = data.frame(table(Baron_common[['cell.type']]))[,2]\n",
    "get_single_dfs <- function(df_list, cell_counts=cell_counts){\n",
    "ct_df = bind_cols(to_list(for (i in 1:length(df_list)){if(i==1){\n",
    "    df_list[[i]][c(1,2)]}else{\n",
    "    df_list[[i]][2]}}), )\n",
    "colnames(ct_df) <- c(\"cell_type\", n_features)\n",
    "count_df = cbind(ct_df[1],sweep(ct_df[,2:ncol(ct_df)], 1, STATS=cell_counts, FUN=\"*\"))\n",
    "    return(list(ct_df, count_df))\n",
    "    \n",
    "    }"
   ]
  },
  {
   "cell_type": "code",
   "execution_count": 40,
   "id": "665d7821",
   "metadata": {},
   "outputs": [
    {
     "name": "stderr",
     "output_type": "stream",
     "text": [
      "\u001b[1m\u001b[22mNew names:\n",
      "\u001b[36m•\u001b[39m `mean(pred)` -> `mean(pred)...2`\n",
      "\u001b[36m•\u001b[39m `mean(pred)` -> `mean(pred)...3`\n",
      "\u001b[36m•\u001b[39m `mean(pred)` -> `mean(pred)...4`\n",
      "\u001b[36m•\u001b[39m `mean(pred)` -> `mean(pred)...5`\n",
      "\u001b[36m•\u001b[39m `mean(pred)` -> `mean(pred)...6`\n",
      "\u001b[36m•\u001b[39m `mean(pred)` -> `mean(pred)...7`\n",
      "Using cell_type as id variables\n",
      "\n",
      "\u001b[1m\u001b[22mNew names:\n",
      "\u001b[36m•\u001b[39m `mean(pred)` -> `mean(pred)...2`\n",
      "\u001b[36m•\u001b[39m `mean(pred)` -> `mean(pred)...3`\n",
      "\u001b[36m•\u001b[39m `mean(pred)` -> `mean(pred)...4`\n",
      "\u001b[36m•\u001b[39m `mean(pred)` -> `mean(pred)...5`\n",
      "\u001b[36m•\u001b[39m `mean(pred)` -> `mean(pred)...6`\n",
      "\u001b[36m•\u001b[39m `mean(pred)` -> `mean(pred)...7`\n",
      "Using cell_type as id variables\n",
      "\n"
     ]
    }
   ],
   "source": [
    "res <- get_single_dfs(simba_ct_perf, cell_counts)\n",
    "simba_ct_frac_list <- res[[1]]\n",
    "simba_ct_list <- res[[2]]\n",
    "simba_ct_melt = melt(simba_ct_list)\n",
    "simba_ct_melt$method <- 'SIMBA'\n",
    "\n",
    "res <- get_single_dfs(cellid_ct_perf, cell_counts)\n",
    "cellid_ct_frac_list <- res[[1]]\n",
    "cellid_ct_list <- res[[2]]\n",
    "cellid_ct_melt = melt(cellid_ct_list)\n",
    "cellid_ct_melt$method <- \"CellID\"\n",
    "plot_df = rbind(cellid_ct_melt, simba_ct_melt)"
   ]
  },
  {
   "cell_type": "code",
   "execution_count": 41,
   "id": "db1d0f6f",
   "metadata": {},
   "outputs": [
    {
     "data": {
      "text/html": [
       "<table class=\"dataframe\">\n",
       "<caption>A data.frame: 13 × 7</caption>\n",
       "<thead>\n",
       "\t<tr><th scope=col>cell_type</th><th scope=col>10</th><th scope=col>50</th><th scope=col>100</th><th scope=col>200</th><th scope=col>500</th><th scope=col>1000</th></tr>\n",
       "\t<tr><th scope=col>&lt;chr&gt;</th><th scope=col>&lt;dbl&gt;</th><th scope=col>&lt;dbl&gt;</th><th scope=col>&lt;dbl&gt;</th><th scope=col>&lt;dbl&gt;</th><th scope=col>&lt;dbl&gt;</th><th scope=col>&lt;dbl&gt;</th></tr>\n",
       "</thead>\n",
       "<tbody>\n",
       "\t<tr><td>Acinar cells             </td><td>700</td><td> 929</td><td> 934</td><td> 940</td><td> 943</td><td> 946</td></tr>\n",
       "\t<tr><td>Alpha cells              </td><td>198</td><td> 966</td><td>1299</td><td>1524</td><td>1634</td><td>1702</td></tr>\n",
       "\t<tr><td>Beta cells               </td><td>396</td><td>1364</td><td>1722</td><td>2002</td><td>2196</td><td>2247</td></tr>\n",
       "\t<tr><td>Delta cells              </td><td>448</td><td> 563</td><td> 570</td><td> 571</td><td> 573</td><td> 574</td></tr>\n",
       "\t<tr><td>Ductal cells             </td><td> 81</td><td> 324</td><td> 417</td><td> 524</td><td> 575</td><td> 558</td></tr>\n",
       "\t<tr><td>Endothelial cells        </td><td>180</td><td> 236</td><td> 240</td><td> 246</td><td> 246</td><td> 245</td></tr>\n",
       "\t<tr><td>Epsilon cells            </td><td> 13</td><td>   8</td><td>   8</td><td>   4</td><td>   2</td><td>   1</td></tr>\n",
       "\t<tr><td>Gamma (PP) cells         </td><td>245</td><td> 252</td><td> 255</td><td> 255</td><td> 255</td><td> 253</td></tr>\n",
       "\t<tr><td>Macrophages              </td><td> 22</td><td>  43</td><td>  49</td><td>  53</td><td>  52</td><td>  52</td></tr>\n",
       "\t<tr><td>Mast cells               </td><td> 15</td><td>  23</td><td>  25</td><td>  24</td><td>  22</td><td>  20</td></tr>\n",
       "\t<tr><td>Pancreatic stellate cells</td><td> 15</td><td>  35</td><td>  37</td><td>  10</td><td>   4</td><td>   3</td></tr>\n",
       "\t<tr><td>Peri-islet Schwann cells </td><td>  0</td><td>   0</td><td>   0</td><td>   0</td><td>   9</td><td>  12</td></tr>\n",
       "\t<tr><td>T cells                  </td><td>  4</td><td>   5</td><td>   6</td><td>   6</td><td>   4</td><td>   3</td></tr>\n",
       "</tbody>\n",
       "</table>\n"
      ],
      "text/latex": [
       "A data.frame: 13 × 7\n",
       "\\begin{tabular}{lllllll}\n",
       " cell\\_type & 10 & 50 & 100 & 200 & 500 & 1000\\\\\n",
       " <chr> & <dbl> & <dbl> & <dbl> & <dbl> & <dbl> & <dbl>\\\\\n",
       "\\hline\n",
       "\t Acinar cells              & 700 &  929 &  934 &  940 &  943 &  946\\\\\n",
       "\t Alpha cells               & 198 &  966 & 1299 & 1524 & 1634 & 1702\\\\\n",
       "\t Beta cells                & 396 & 1364 & 1722 & 2002 & 2196 & 2247\\\\\n",
       "\t Delta cells               & 448 &  563 &  570 &  571 &  573 &  574\\\\\n",
       "\t Ductal cells              &  81 &  324 &  417 &  524 &  575 &  558\\\\\n",
       "\t Endothelial cells         & 180 &  236 &  240 &  246 &  246 &  245\\\\\n",
       "\t Epsilon cells             &  13 &    8 &    8 &    4 &    2 &    1\\\\\n",
       "\t Gamma (PP) cells          & 245 &  252 &  255 &  255 &  255 &  253\\\\\n",
       "\t Macrophages               &  22 &   43 &   49 &   53 &   52 &   52\\\\\n",
       "\t Mast cells                &  15 &   23 &   25 &   24 &   22 &   20\\\\\n",
       "\t Pancreatic stellate cells &  15 &   35 &   37 &   10 &    4 &    3\\\\\n",
       "\t Peri-islet Schwann cells  &   0 &    0 &    0 &    0 &    9 &   12\\\\\n",
       "\t T cells                   &   4 &    5 &    6 &    6 &    4 &    3\\\\\n",
       "\\end{tabular}\n"
      ],
      "text/markdown": [
       "\n",
       "A data.frame: 13 × 7\n",
       "\n",
       "| cell_type &lt;chr&gt; | 10 &lt;dbl&gt; | 50 &lt;dbl&gt; | 100 &lt;dbl&gt; | 200 &lt;dbl&gt; | 500 &lt;dbl&gt; | 1000 &lt;dbl&gt; |\n",
       "|---|---|---|---|---|---|---|\n",
       "| Acinar cells              | 700 |  929 |  934 |  940 |  943 |  946 |\n",
       "| Alpha cells               | 198 |  966 | 1299 | 1524 | 1634 | 1702 |\n",
       "| Beta cells                | 396 | 1364 | 1722 | 2002 | 2196 | 2247 |\n",
       "| Delta cells               | 448 |  563 |  570 |  571 |  573 |  574 |\n",
       "| Ductal cells              |  81 |  324 |  417 |  524 |  575 |  558 |\n",
       "| Endothelial cells         | 180 |  236 |  240 |  246 |  246 |  245 |\n",
       "| Epsilon cells             |  13 |    8 |    8 |    4 |    2 |    1 |\n",
       "| Gamma (PP) cells          | 245 |  252 |  255 |  255 |  255 |  253 |\n",
       "| Macrophages               |  22 |   43 |   49 |   53 |   52 |   52 |\n",
       "| Mast cells                |  15 |   23 |   25 |   24 |   22 |   20 |\n",
       "| Pancreatic stellate cells |  15 |   35 |   37 |   10 |    4 |    3 |\n",
       "| Peri-islet Schwann cells  |   0 |    0 |    0 |    0 |    9 |   12 |\n",
       "| T cells                   |   4 |    5 |    6 |    6 |    4 |    3 |\n",
       "\n"
      ],
      "text/plain": [
       "   cell_type                 10  50   100  200  500  1000\n",
       "1  Acinar cells              700  929  934  940  943  946\n",
       "2  Alpha cells               198  966 1299 1524 1634 1702\n",
       "3  Beta cells                396 1364 1722 2002 2196 2247\n",
       "4  Delta cells               448  563  570  571  573  574\n",
       "5  Ductal cells               81  324  417  524  575  558\n",
       "6  Endothelial cells         180  236  240  246  246  245\n",
       "7  Epsilon cells              13    8    8    4    2    1\n",
       "8  Gamma (PP) cells          245  252  255  255  255  253\n",
       "9  Macrophages                22   43   49   53   52   52\n",
       "10 Mast cells                 15   23   25   24   22   20\n",
       "11 Pancreatic stellate cells  15   35   37   10    4    3\n",
       "12 Peri-islet Schwann cells    0    0    0    0    9   12\n",
       "13 T cells                     4    5    6    6    4    3"
      ]
     },
     "metadata": {},
     "output_type": "display_data"
    }
   ],
   "source": [
    "cellid_ct_list\n"
   ]
  },
  {
   "cell_type": "code",
   "execution_count": 29,
   "id": "c48667b3",
   "metadata": {},
   "outputs": [],
   "source": [
    "# Theme from https://rpubs.com/Koundy/71792\n",
    "theme_Publication <- function(base_size=14, base_family=\"helvetica\") {\n",
    "      library(grid)\n",
    "      library(ggthemes)\n",
    "      (theme_foundation(base_size=base_size, base_family=base_family)\n",
    "       + theme(plot.title = element_text(face = \"bold\",\n",
    "                                         size = rel(1.2), hjust = 0.5),\n",
    "               text = element_text(),\n",
    "               panel.background = element_rect(colour = NA),\n",
    "               plot.background = element_rect(colour = NA),\n",
    "               panel.border = element_rect(colour = NA),\n",
    "               axis.title = element_text(face = \"bold\",size = rel(1)),\n",
    "               axis.title.y = element_text(angle=90,vjust =2),\n",
    "               axis.title.x = element_text(vjust = -0.2),\n",
    "               axis.text = element_text(), \n",
    "               axis.line = element_line(colour=\"black\"),\n",
    "               axis.ticks = element_line(),\n",
    "               panel.grid.major = element_line(colour=\"#f0f0f0\"),\n",
    "               panel.grid.minor = element_blank(),\n",
    "               legend.key = element_rect(colour = NA),\n",
    "               legend.position = \"bottom\",\n",
    "               legend.direction = \"horizontal\",\n",
    "               legend.key.size= unit(0.2, \"cm\"),\n",
    "               legend.margin = unit(0, \"cm\"),\n",
    "               legend.title = element_text(face=\"italic\"),\n",
    "               plot.margin=unit(c(10,5,5,5),\"mm\"),\n",
    "               strip.background=element_rect(colour=\"#f0f0f0\",fill=\"#f0f0f0\"),\n",
    "               strip.text = element_text(face=\"bold\")\n",
    "          ))\n",
    "      \n",
    "}\n",
    "getPalette = colorRampPalette(brewer.pal(9, \"Paired\"))"
   ]
  },
  {
   "cell_type": "code",
   "execution_count": 42,
   "id": "19d6fd7a",
   "metadata": {},
   "outputs": [
    {
     "name": "stderr",
     "output_type": "stream",
     "text": [
      "Warning message:\n",
      "“`legend.margin` must be specified using `margin()`. For the old behavior use legend.spacing”\n"
     ]
    },
    {
     "data": {
      "image/png": "[encoded data removed]",
      "text/plain": [
       "plot without title"
      ]
     },
     "metadata": {
      "image/png": {
       "height": 300,
       "width": 720
      }
     },
     "output_type": "display_data"
    }
   ],
   "source": [
    "options(repr.plot.width=12, repr.plot.height=5)\n",
    "ggplot(plot_df, aes(fill=cell_type, y=value, x=method,)) + facet_wrap(~variable,nrow=1)+\n",
    "geom_bar(position=\"stack\", stat=\"identity\") + theme_Publication() + scale_fill_manual(values = getPalette(13)) + ylab(\"# Correctly classified cells\") + ggtitle(\"# features per cell\")"
   ]
  },
  {
   "cell_type": "code",
   "execution_count": 48,
   "id": "ad07a2ba",
   "metadata": {},
   "outputs": [],
   "source": [
    "plot_df$prop <- plot_df$value/ncol(Baron_common)*100"
   ]
  },
  {
   "cell_type": "code",
   "execution_count": 49,
   "id": "a166ed36",
   "metadata": {},
   "outputs": [
    {
     "name": "stderr",
     "output_type": "stream",
     "text": [
      "Warning message:\n",
      "“`legend.margin` must be specified using `margin()`. For the old behavior use legend.spacing”\n"
     ]
    },
    {
     "data": {
      "image/png": "[encoded data removed]",
      "text/plain": [
       "plot without title"
      ]
     },
     "metadata": {
      "image/png": {
       "height": 300,
       "width": 720
      }
     },
     "output_type": "display_data"
    }
   ],
   "source": [
    "options(repr.plot.width=12, repr.plot.height=5)\n",
    "ggplot(plot_df, aes(fill=cell_type, y=prop, x=method,)) + facet_wrap(~variable,nrow=1)+\n",
    "geom_bar(position=\"stack\", stat=\"identity\") + theme_Publication() + scale_fill_manual(values = getPalette(13)) + ylab(\"% Correctly classified cells\") + ggtitle(\"# features per cell\")"
   ]
  }
 ],
 "metadata": {
  "kernelspec": {
   "display_name": "jy_simba_copy_R",
   "language": "R",
   "name": "jy_simba_copy_r"
  },
  "language_info": {
   "codemirror_mode": "r",
   "file_extension": ".r",
   "mimetype": "text/x-r-source",
   "name": "R",
   "pygments_lexer": "r",
   "version": "4.1.3"
  }
 },
 "nbformat": 4,
 "nbformat_minor": 5
}
