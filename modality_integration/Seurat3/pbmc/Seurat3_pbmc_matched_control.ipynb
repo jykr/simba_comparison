{
 "cells": [
  {
   "cell_type": "markdown",
   "metadata": {},
   "source": [
    "https://satijalab.org/seurat/archive/v3.1/atacseq_integration_vignette.html![image.png](attachment:image.png)"
   ]
  },
  {
   "cell_type": "markdown",
   "metadata": {},
   "source": [
    "https://satijalab.org/seurat/archive/v3.0/atacseq_integration_vignette.html\n",
    "Note: this data isn't matched.\n",
    "Data from https://satijalab.org/signac/articles/pbmc_multiomic.html"
   ]
  },
  {
   "cell_type": "code",
   "execution_count": 1,
   "metadata": {},
   "outputs": [],
   "source": [
    "library(Seurat)\n",
    "library(ggplot2)\n",
    "library(patchwork)"
   ]
  },
  {
   "cell_type": "code",
   "execution_count": 2,
   "metadata": {},
   "outputs": [],
   "source": [
    "data <- readRDS(\"../../data/pbmc/data_list.rds\")\n",
    "peaks <- data$Peaks\n",
    "genes = data[['Gene Expression']]"
   ]
  },
  {
   "cell_type": "code",
   "execution_count": 3,
   "metadata": {},
   "outputs": [],
   "source": [
    "atac <- readRDS(\"../../Seurat3/pbmc/atac.rds\")"
   ]
  },
  {
   "cell_type": "code",
   "execution_count": 5,
   "metadata": {},
   "outputs": [],
   "source": [
    "activity.matrix = atac[['ACTIVITY']]"
   ]
  },
  {
   "cell_type": "code",
   "execution_count": 6,
   "metadata": {},
   "outputs": [],
   "source": [
    "rna_count = data[[\"Gene Expression\"]]\n",
    "shared_genes = intersect(rownames(rna_count), rownames(activity.matrix))\n",
    "colnames(rna_count) = paste0(\"rna.\", colnames(rna_count))\n",
    "colnames(activity.matrix) = paste0(\"atac.\", colnames(activity.matrix))"
   ]
  },
  {
   "cell_type": "code",
   "execution_count": 8,
   "metadata": {},
   "outputs": [],
   "source": [
    "cat_count_matrix = cbind(rna_count[shared_genes,], activity.matrix[shared_genes,])"
   ]
  },
  {
   "cell_type": "code",
   "execution_count": 11,
   "metadata": {},
   "outputs": [
    {
     "name": "stdout",
     "output_type": "stream",
     "text": [
      "Formal class 'dgCMatrix' [package \"Matrix\"] with 6 slots\n",
      "  ..@ i       : int [1:48255478] 14 19 34 42 43 49 58 60 70 78 ...\n",
      "  ..@ p       : int [1:22649] 0 2014 3201 4992 5472 6892 7715 9625 10661 12582 ...\n",
      "  ..@ Dim     : int [1:2] 11045 22648\n",
      "  ..@ Dimnames:List of 2\n",
      "  .. ..$ : chr [1:11045] \"AP006222.2\" \"LINC01128\" \"AL645608.2\" \"SAMD11\" ...\n",
      "  .. ..$ : chr [1:22648] \"rna.AAACAGCCAAGGAATC-1\" \"rna.AAACAGCCAATCCCTT-1\" \"rna.AAACAGCCAATGCGCT-1\" \"rna.AAACAGCCACACTAAT-1\" ...\n",
      "  ..@ x       : num [1:48255478] 1 1 1 1 1 1 1 6 3 3 ...\n",
      "  ..@ factors : list()\n"
     ]
    }
   ],
   "source": [
    "str(cat_count_matrix)"
   ]
  },
  {
   "cell_type": "code",
   "execution_count": 10,
   "metadata": {},
   "outputs": [],
   "source": [
    "cat_count_matrix <- cat_count_matrix[-which(apply(cat_count_matrix, 1, var) == 0),]"
   ]
  },
  {
   "cell_type": "code",
   "execution_count": null,
   "metadata": {},
   "outputs": [],
   "source": [
    "cat_mat.pca = prcomp(t(as.matrix(cat_count_matrix)), center = T, scale. = T, rank. = 20)"
   ]
  },
  {
   "cell_type": "markdown",
   "metadata": {},
   "source": [
    "## Incorporate cell type"
   ]
  },
  {
   "cell_type": "code",
   "execution_count": 1,
   "metadata": {},
   "outputs": [],
   "source": [
    "embedding <- read.table(\"../../Raw/pbmc/integrated_embedding.txt\")"
   ]
  },
  {
   "cell_type": "code",
   "execution_count": 2,
   "metadata": {},
   "outputs": [],
   "source": [
    "meta <- read.table(\"../../data/pbmc/cell_type_h5ad.txt\", stringsAsFactors = F, head = T)"
   ]
  },
  {
   "cell_type": "code",
   "execution_count": 3,
   "metadata": {},
   "outputs": [
    {
     "name": "stdout",
     "output_type": "stream",
     "text": [
      "'data.frame':\t23818 obs. of  2 variables:\n",
      " $ bc     : chr  \"TCCTTAGTCATTATGG-1\" \"GGCAAGCCAACATAAG-1\" \"GTCTCACTCATGAAGG-1\" \"CGTTAAATCTCCTCTT-1\" ...\n",
      " $ cluster: int  11 9 3 4 8 12 10 6 17 17 ...\n"
     ]
    }
   ],
   "source": [
    "str(meta)"
   ]
  },
  {
   "cell_type": "code",
   "execution_count": 4,
   "metadata": {},
   "outputs": [],
   "source": [
    "meta.ft = c(meta$cluster, meta$cluster)\n",
    "names(meta.ft) = c(paste0(\"rna.\", meta$bc), paste0(\"atac.\", meta$bc))"
   ]
  },
  {
   "cell_type": "code",
   "execution_count": 5,
   "metadata": {
    "scrolled": true
   },
   "outputs": [],
   "source": [
    "#embedding = as.data.frame(cat_mat.pca$x[,1:20])\n",
    "#stopifnot(rownames(embedding) != embedding$bc)\n",
    "embedding$cell_type = factor(meta.ft[rownames(embedding)])"
   ]
  },
  {
   "cell_type": "code",
   "execution_count": 6,
   "metadata": {},
   "outputs": [],
   "source": [
    "embedding$batch = as.numeric(factor(sapply(strsplit(rownames(embedding), split = \".\", fixed = T), function(s) paste0(s[2:length(s)], collapse = \".\"))))"
   ]
  },
  {
   "cell_type": "code",
   "execution_count": 7,
   "metadata": {},
   "outputs": [
    {
     "name": "stdout",
     "output_type": "stream",
     "text": [
      "'data.frame':\t23818 obs. of  22 variables:\n",
      " $ PC1      : num  -27.9 -31.9 -28.3 -34.6 -31.3 ...\n",
      " $ PC2      : num  9.129 0.919 6.193 -5.109 2.952 ...\n",
      " $ PC3      : num  -28.53 -2.12 -17.43 11.19 -10.29 ...\n",
      " $ PC4      : num  -27.13 -7.78 -20.31 -2.88 -16.93 ...\n",
      " $ PC5      : num  13.0748 3.1967 8.2698 0.0484 6.661 ...\n",
      " $ PC6      : num  0.3314 0.2641 0.0985 -0.8097 0.1685 ...\n",
      " $ PC7      : num  -3.539 -1.485 -2.564 0.243 -0.579 ...\n",
      " $ PC8      : num  -12.47 -3.09 -7.65 0.41 -4.05 ...\n",
      " $ PC9      : num  -1.6721 0.5126 -0.9143 1.3738 -0.0434 ...\n",
      " $ PC10     : num  6.945 1.906 3.841 0.558 3.699 ...\n",
      " $ PC11     : num  -0.371 0.11 1.398 0.98 1.457 ...\n",
      " $ PC12     : num  2.344 0.145 1.237 -0.112 1.137 ...\n",
      " $ PC13     : num  8.226 -0.634 5.157 0.449 4.721 ...\n",
      " $ PC14     : num  2.688 -0.857 2.065 1.194 4.305 ...\n",
      " $ PC15     : num  0.1992 -0.4413 0.1469 -0.0302 0.2513 ...\n",
      " $ PC16     : num  0.2631 -0.1527 -0.43 -0.0453 -0.5545 ...\n",
      " $ PC17     : num  2.36978 0.58112 1.69392 0.00319 0.702 ...\n",
      " $ PC18     : num  -0.207 0.124 0.293 -0.929 -0.828 ...\n",
      " $ PC19     : num  -0.2611 0.706 0.4214 0.0351 -0.4079 ...\n",
      " $ PC20     : num  4.381 1.003 2.598 -0.274 0.114 ...\n",
      " $ cell_type: Factor w/ 19 levels \"1\",\"2\",\"3\",\"4\",..: 6 15 6 1 1 6 1 2 15 1 ...\n",
      " $ batch    : num  1 2 3 4 5 6 7 8 9 10 ...\n"
     ]
    }
   ],
   "source": [
    "str(embedding)"
   ]
  },
  {
   "cell_type": "code",
   "execution_count": 8,
   "metadata": {},
   "outputs": [],
   "source": [
    "write.table(embedding, \"../../Raw/pbmc/integrated_embedding.txt\", quote = F, sep = \"\\t\", row.names = T, col.names = T)"
   ]
  }
 ],
 "metadata": {
  "kernelspec": {
   "display_name": "R",
   "language": "R",
   "name": "ir"
  },
  "language_info": {
   "codemirror_mode": "r",
   "file_extension": ".r",
   "mimetype": "text/x-r-source",
   "name": "R",
   "pygments_lexer": "r",
   "version": "4.0.0"
  }
 },
 "nbformat": 4,
 "nbformat_minor": 4
}
