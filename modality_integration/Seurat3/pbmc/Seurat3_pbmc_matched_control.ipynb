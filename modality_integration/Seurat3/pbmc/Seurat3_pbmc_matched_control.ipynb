{
 "cells": [
  {
   "cell_type": "markdown",
   "metadata": {},
   "source": [
    "https://satijalab.org/seurat/archive/v3.1/atacseq_integration_vignette.html![image.png](attachment:image.png)"
   ]
  },
  {
   "cell_type": "markdown",
   "metadata": {},
   "source": [
    "https://satijalab.org/seurat/archive/v3.0/atacseq_integration_vignette.html\n",
    "Note: this data isn't matched.\n",
    "Data from https://satijalab.org/signac/articles/pbmc_multiomic.html"
   ]
  },
  {
   "cell_type": "code",
   "execution_count": 1,
   "metadata": {},
   "outputs": [],
   "source": [
    "library(Seurat)\n",
    "library(ggplot2)\n",
    "library(patchwork)"
   ]
  },
  {
   "cell_type": "code",
   "execution_count": 2,
   "metadata": {},
   "outputs": [],
   "source": [
    "data <- readRDS(\"../../data/pbmc/data_list.rds\")\n",
    "peaks <- data$Peaks\n",
    "genes = data[['Gene Expression']]"
   ]
  },
  {
   "cell_type": "code",
   "execution_count": 3,
   "metadata": {},
   "outputs": [],
   "source": [
    "atac <- readRDS(\"../../Seurat3/pbmc/atac.rds\")"
   ]
  },
  {
   "cell_type": "code",
   "execution_count": 5,
   "metadata": {},
   "outputs": [],
   "source": [
    "activity.matrix = atac[['ACTIVITY']]"
   ]
  },
  {
   "cell_type": "code",
   "execution_count": 6,
   "metadata": {},
   "outputs": [],
   "source": [
    "rna_count = data[[\"Gene Expression\"]]\n",
    "shared_genes = intersect(rownames(rna_count), rownames(activity.matrix))\n",
    "colnames(rna_count) = paste0(\"rna.\", colnames(rna_count))\n",
    "colnames(activity.matrix) = paste0(\"atac.\", colnames(activity.matrix))"
   ]
  },
  {
   "cell_type": "code",
   "execution_count": 8,
   "metadata": {},
   "outputs": [],
   "source": [
    "cat_count_matrix = cbind(rna_count[shared_genes,], activity.matrix[shared_genes,])"
   ]
  },
  {
   "cell_type": "code",
   "execution_count": 11,
   "metadata": {},
   "outputs": [
    {
     "name": "stdout",
     "output_type": "stream",
     "text": [
      "Formal class 'dgCMatrix' [package \"Matrix\"] with 6 slots\n",
      "  ..@ i       : int [1:48255478] 14 19 34 42 43 49 58 60 70 78 ...\n",
      "  ..@ p       : int [1:22649] 0 2014 3201 4992 5472 6892 7715 9625 10661 12582 ...\n",
      "  ..@ Dim     : int [1:2] 11045 22648\n",
      "  ..@ Dimnames:List of 2\n",
      "  .. ..$ : chr [1:11045] \"AP006222.2\" \"LINC01128\" \"AL645608.2\" \"SAMD11\" ...\n",
      "  .. ..$ : chr [1:22648] \"rna.AAACAGCCAAGGAATC-1\" \"rna.AAACAGCCAATCCCTT-1\" \"rna.AAACAGCCAATGCGCT-1\" \"rna.AAACAGCCACACTAAT-1\" ...\n",
      "  ..@ x       : num [1:48255478] 1 1 1 1 1 1 1 6 3 3 ...\n",
      "  ..@ factors : list()\n"
     ]
    }
   ],
   "source": [
    "str(cat_count_matrix)"
   ]
  },
  {
   "cell_type": "code",
   "execution_count": 10,
   "metadata": {},
   "outputs": [],
   "source": [
    "cat_count_matrix <- cat_count_matrix[-which(apply(cat_count_matrix, 1, var) == 0),]"
   ]
  },
  {
   "cell_type": "code",
   "execution_count": null,
   "metadata": {},
   "outputs": [],
   "source": [
    "cat_mat.pca = prcomp(t(as.matrix(cat_count_matrix)), center = T, scale. = T, rank. = 20)"
   ]
  },
  {
   "cell_type": "markdown",
   "metadata": {},
   "source": [
    "## Incorporate cell type"
   ]
  },
  {
   "cell_type": "code",
   "execution_count": null,
   "metadata": {},
   "outputs": [],
   "source": [
    "meta <- read.table(\"../../data/pbmc/cell_type.txt\", stringsAsFactors = F, head = T)"
   ]
  },
  {
   "cell_type": "code",
   "execution_count": null,
   "metadata": {},
   "outputs": [],
   "source": [
    "str(meta)"
   ]
  },
  {
   "cell_type": "code",
   "execution_count": null,
   "metadata": {},
   "outputs": [],
   "source": [
    "meta.ft = c(meta$cluster, meta$cluster)\n",
    "names(meta.ft) = c(paste0(\"rna.\", meta$bc), paste0(\"atac.\", meta$bc))"
   ]
  },
  {
   "cell_type": "code",
   "execution_count": null,
   "metadata": {
    "scrolled": true
   },
   "outputs": [],
   "source": [
    "embedding = as.data.frame(cat_mat.pca$x[,1:20])\n",
    "stopifnot(rownames(embedding) != embedding$bc)\n",
    "embedding$cell_type = factor(meta.ft[rownames(embedding)])"
   ]
  },
  {
   "cell_type": "code",
   "execution_count": null,
   "metadata": {},
   "outputs": [],
   "source": [
    "embedding$batch = as.numeric(factor(sapply(strsplit(rownames(embedding), split = \".\", fixed = T), function(s) paste0(s[2:length(s)], collapse = \".\"))))"
   ]
  },
  {
   "cell_type": "code",
   "execution_count": null,
   "metadata": {},
   "outputs": [],
   "source": [
    "str(embedding)"
   ]
  },
  {
   "cell_type": "code",
   "execution_count": 28,
   "metadata": {},
   "outputs": [],
   "source": [
    "write.table(embedding, \"../../Raw/pbmc/integrated_embedding.txt\", quote = F, sep = \"\\t\", row.names = T, col.names = T)"
   ]
  }
 ],
 "metadata": {
  "kernelspec": {
   "display_name": "R",
   "language": "R",
   "name": "ir"
  },
  "language_info": {
   "codemirror_mode": "r",
   "file_extension": ".r",
   "mimetype": "text/x-r-source",
   "name": "R",
   "pygments_lexer": "r",
   "version": "3.6.3"
  }
 },
 "nbformat": 4,
 "nbformat_minor": 4
}
