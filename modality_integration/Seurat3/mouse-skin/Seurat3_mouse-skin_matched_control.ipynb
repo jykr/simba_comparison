{
 "cells": [
  {
   "cell_type": "markdown",
   "metadata": {},
   "source": [
    "https://satijalab.org/seurat/archive/v3.1/atacseq_integration_vignette.html![image.png](attachment:image.png)"
   ]
  },
  {
   "cell_type": "markdown",
   "metadata": {},
   "source": [
    "https://satijalab.org/seurat/archive/v3.0/atacseq_integration_vignette.html"
   ]
  },
  {
   "cell_type": "code",
   "execution_count": 5,
   "metadata": {},
   "outputs": [],
   "source": [
    "library(Seurat)\n",
    "library(ggplot2)\n",
    "library(patchwork)\n",
    "data <- readRDS(\"../../data/mouse-skin/data_list.rds\")\n",
    "peaks <- data$Peaks\n",
    "genes = data[['Gene Expression']]"
   ]
  },
  {
   "cell_type": "markdown",
   "metadata": {},
   "source": [
    "`gencode.vM23.primary_assembly.annotation.gtf` http://ftp.ebi.ac.uk/pub/databases/gencode/Gencode_mouse/release_M23/gencode.vM23.primary_assembly.annotation.gtf.gz\n",
    "\n",
    "source: [10x Mouse reference, mm10 (GENCODE vM23/Ensembl 98)](https://support.10xgenomics.com/single-cell-gene-expression/software/release-notes/build#mm10_2020A)"
   ]
  },
  {
   "cell_type": "code",
   "execution_count": 3,
   "metadata": {},
   "outputs": [
    {
     "name": "stderr",
     "output_type": "stream",
     "text": [
      "Warning message:\n",
      "“CreateGeneActivityMatrix functionality is being moved to Signac. Equivalent functionality can be achieved via the Signac::GeneActivity function; for more information on Signac, please see https://github.com/timoast/Signac”\n"
     ]
    }
   ],
   "source": [
    "# create a gene activity matrix from the peak matrix and GTF, using chromosomes 1:22, X, and Y.\n",
    "# Peaks that fall within gene bodies, or 2kb upstream of a gene, are considered\n",
    "activity.matrix <- CreateGeneActivityMatrix(peak.matrix = peaks, \n",
    "                                            annotation.file = \"/data/pinello/PROJECTS/2019_08_RNA_Acceleration/chen_nbt_2019/analysis_HC/Mus_musculus.GRCm38.97.gtf\", \n",
    "    seq.levels = c(1:19, \"X\", \"Y\"), upstream = 2000, verbose = TRUE)"
   ]
  },
  {
   "cell_type": "code",
   "execution_count": 2,
   "metadata": {},
   "outputs": [],
   "source": [
    "atac <- readRDS(\"atac.rds\")"
   ]
  },
  {
   "cell_type": "code",
   "execution_count": 3,
   "metadata": {},
   "outputs": [
    {
     "name": "stdout",
     "output_type": "stream",
     "text": [
      "Formal class 'Seurat' [package \"Seurat\"] with 13 slots\n",
      "  ..@ assays      :List of 2\n",
      "  .. ..$ ATAC    :Formal class 'Assay' [package \"Seurat\"] with 8 slots\n",
      "  .. .. .. ..@ counts       :Formal class 'dgCMatrix' [package \"Matrix\"] with 6 slots\n",
      "  .. .. .. .. .. ..@ i       : int [1:139669728] 23 34 42 53 55 62 94 103 114 126 ...\n",
      "  .. .. .. .. .. ..@ p       : int [1:34775] 0 1476 6204 10972 19687 22071 31448 37785 42524 57558 ...\n",
      "  .. .. .. .. .. ..@ Dim     : int [1:2] 344592 34774\n",
      "  .. .. .. .. .. ..@ Dimnames:List of 2\n",
      "  .. .. .. .. .. .. ..$ : chr [1:344592] \"chrX:143482906-143483206\" \"chr6:3200976-3201276\" \"chr9:123461850-123462150\" \"chr1:56782095-56782395\" ...\n",
      "  .. .. .. .. .. .. ..$ : chr [1:34774] \"R1.01.R2.01.R3.06.P1.55\" \"R1.01.R2.03.R3.68.P1.55\" \"R1.01.R2.05.R3.15.P1.53\" \"R1.01.R2.05.R3.40.P1.55\" ...\n",
      "  .. .. .. .. .. ..@ x       : num [1:139669728] 1 2 2 1 1 1 1 1 1 1 ...\n",
      "  .. .. .. .. .. ..@ factors : list()\n",
      "  .. .. .. ..@ data         :Formal class 'dgCMatrix' [package \"Matrix\"] with 6 slots\n",
      "  .. .. .. .. .. ..@ i       : int [1:139669728] 23 34 42 53 55 62 94 103 114 126 ...\n",
      "  .. .. .. .. .. ..@ p       : int [1:34775] 0 1476 6204 10972 19687 22071 31448 37785 42524 57558 ...\n",
      "  .. .. .. .. .. ..@ Dim     : int [1:2] 344592 34774\n",
      "  .. .. .. .. .. ..@ Dimnames:List of 2\n",
      "  .. .. .. .. .. .. ..$ : chr [1:344592] \"chrX:143482906-143483206\" \"chr6:3200976-3201276\" \"chr9:123461850-123462150\" \"chr1:56782095-56782395\" ...\n",
      "  .. .. .. .. .. .. ..$ : chr [1:34774] \"R1.01.R2.01.R3.06.P1.55\" \"R1.01.R2.03.R3.68.P1.55\" \"R1.01.R2.05.R3.15.P1.53\" \"R1.01.R2.05.R3.40.P1.55\" ...\n",
      "  .. .. .. .. .. ..@ x       : num [1:139669728] 1 2 2 1 1 1 1 1 1 1 ...\n",
      "  .. .. .. .. .. ..@ factors : list()\n",
      "  .. .. .. ..@ scale.data   : num[0 , 0 ] \n",
      "  .. .. .. ..@ key          : chr \"atac_\"\n",
      "  .. .. .. ..@ assay.orig   : NULL\n",
      "  .. .. .. ..@ var.features : chr [1:235325] \"chrX:143482906-143483206\" \"chr6:3200976-3201276\" \"chr9:123461850-123462150\" \"chr1:56782095-56782395\" ...\n",
      "  .. .. .. ..@ meta.features:'data.frame':\t344592 obs. of  0 variables\n",
      "  .. .. .. ..@ misc         : NULL\n",
      "  .. ..$ ACTIVITY:Formal class 'Assay' [package \"Seurat\"] with 8 slots\n",
      "  .. .. .. ..@ counts       :Formal class 'dgCMatrix' [package \"Matrix\"] with 6 slots\n",
      "  .. .. .. .. .. ..@ i       : int [1:77636392] 5 10 17 20 24 31 39 49 51 58 ...\n",
      "  .. .. .. .. .. ..@ p       : int [1:34775] 0 984 3917 6748 11350 12881 17829 21607 24443 31510 ...\n",
      "  .. .. .. .. .. ..@ Dim     : int [1:2] 22463 34774\n",
      "  .. .. .. .. .. ..@ Dimnames:List of 2\n",
      "  .. .. .. .. .. .. ..$ : chr [1:22463] \"Lars2\" \"Peak1\" \"Hjurp\" \"Sap130\" ...\n",
      "  .. .. .. .. .. .. ..$ : chr [1:34774] \"R1.01.R2.01.R3.06.P1.55\" \"R1.01.R2.03.R3.68.P1.55\" \"R1.01.R2.05.R3.15.P1.53\" \"R1.01.R2.05.R3.40.P1.55\" ...\n",
      "  .. .. .. .. .. ..@ x       : num [1:77636392] 1 1 2 1 1 2 2 1 1 1 ...\n",
      "  .. .. .. .. .. ..@ factors : list()\n",
      "  .. .. .. ..@ data         :Formal class 'dgCMatrix' [package \"Matrix\"] with 6 slots\n",
      "  .. .. .. .. .. ..@ i       : int [1:77636392] 5 10 17 20 24 31 39 49 51 58 ...\n",
      "  .. .. .. .. .. ..@ p       : int [1:34775] 0 984 3917 6748 11350 12881 17829 21607 24443 31510 ...\n",
      "  .. .. .. .. .. ..@ Dim     : int [1:2] 22463 34774\n",
      "  .. .. .. .. .. ..@ Dimnames:List of 2\n",
      "  .. .. .. .. .. .. ..$ : chr [1:22463] \"Lars2\" \"Peak1\" \"Hjurp\" \"Sap130\" ...\n",
      "  .. .. .. .. .. .. ..$ : chr [1:34774] \"R1.01.R2.01.R3.06.P1.55\" \"R1.01.R2.03.R3.68.P1.55\" \"R1.01.R2.05.R3.15.P1.53\" \"R1.01.R2.05.R3.40.P1.55\" ...\n",
      "  .. .. .. .. .. ..@ x       : num [1:77636392] 2.22 2.22 2.86 2.22 2.22 ...\n",
      "  .. .. .. .. .. ..@ factors : list()\n",
      "  .. .. .. ..@ scale.data   : num [1:2000, 1:34774] -0.453 -0.495 -0.431 -0.7 -0.442 ...\n",
      "  .. .. .. .. ..- attr(*, \"dimnames\")=List of 2\n",
      "  .. .. .. .. .. ..$ : chr [1:2000] \"Kctd11\" \"Cebpd\" \"Rpl34\" \"Nectin4\" ...\n",
      "  .. .. .. .. .. ..$ : chr [1:34774] \"R1.01.R2.01.R3.06.P1.55\" \"R1.01.R2.03.R3.68.P1.55\" \"R1.01.R2.05.R3.15.P1.53\" \"R1.01.R2.05.R3.40.P1.55\" ...\n",
      "  .. .. .. ..@ key          : chr \"activity_\"\n",
      "  .. .. .. ..@ assay.orig   : NULL\n",
      "  .. .. .. ..@ var.features : chr [1:2000] \"Col3a1\" \"Col1a2\" \"Gm23518\" \"Krtap17-1\" ...\n",
      "  .. .. .. ..@ meta.features:'data.frame':\t22463 obs. of  5 variables:\n",
      "  .. .. .. .. ..$ vst.mean                 : num [1:22463] 0.569 0.773 0.494 0.665 0.7 ...\n",
      "  .. .. .. .. ..$ vst.variance             : num [1:22463] 0.882 1.394 0.8 1.138 1.32 ...\n",
      "  .. .. .. .. ..$ vst.variance.expected    : num [1:22463] 1.041 1.558 0.869 1.275 1.363 ...\n",
      "  .. .. .. .. ..$ vst.variance.standardized: num [1:22463] 0.847 0.895 0.921 0.892 0.969 ...\n",
      "  .. .. .. .. ..$ vst.variable             : logi [1:22463] FALSE FALSE FALSE FALSE FALSE FALSE ...\n",
      "  .. .. .. ..@ misc         : NULL\n",
      "  ..@ meta.data   :'data.frame':\t34774 obs. of  6 variables:\n",
      "  .. ..$ orig.ident       : Factor w/ 1 level \"10x_ATAC\": 1 1 1 1 1 1 1 1 1 1 ...\n",
      "  .. ..$ nCount_ATAC      : num [1:34774] 1496 4959 4970 9268 2422 ...\n",
      "  .. ..$ nFeature_ATAC    : int [1:34774] 1476 4728 4768 8715 2384 9377 6337 4739 15034 2507 ...\n",
      "  .. ..$ nCount_ACTIVITY  : num [1:34774] 1218 4161 3980 7428 1945 ...\n",
      "  .. ..$ nFeature_ACTIVITY: int [1:34774] 984 2933 2831 4602 1531 4948 3778 2836 7067 1652 ...\n",
      "  .. ..$ tech             : chr [1:34774] \"atac\" \"atac\" \"atac\" \"atac\" ...\n",
      "  ..@ active.assay: chr \"ATAC\"\n",
      "  ..@ active.ident: Factor w/ 1 level \"10x_ATAC\": 1 1 1 1 1 1 1 1 1 1 ...\n",
      "  .. ..- attr(*, \"names\")= chr [1:34774] \"R1.01.R2.01.R3.06.P1.55\" \"R1.01.R2.03.R3.68.P1.55\" \"R1.01.R2.05.R3.15.P1.53\" \"R1.01.R2.05.R3.40.P1.55\" ...\n",
      "  ..@ graphs      : list()\n",
      "  ..@ neighbors   : list()\n",
      "  ..@ reductions  :List of 2\n",
      "  .. ..$ lsi :Formal class 'DimReduc' [package \"Seurat\"] with 9 slots\n",
      "  .. .. .. ..@ cell.embeddings           : num [1:34774, 1:50] -1.013 -1.054 -0.646 -0.94 -0.757 ...\n",
      "  .. .. .. .. ..- attr(*, \"dimnames\")=List of 2\n",
      "  .. .. .. .. .. ..$ : chr [1:34774] \"R1.01.R2.01.R3.06.P1.55\" \"R1.01.R2.03.R3.68.P1.55\" \"R1.01.R2.05.R3.15.P1.53\" \"R1.01.R2.05.R3.40.P1.55\" ...\n",
      "  .. .. .. .. .. ..$ : chr [1:50] \"LSI_1\" \"LSI_2\" \"LSI_3\" \"LSI_4\" ...\n",
      "  .. .. .. ..@ feature.loadings          : num [1:235325, 1:50] -0.00481 -0.00502 -0.00483 -0.00482 -0.00473 ...\n",
      "  .. .. .. .. ..- attr(*, \"dimnames\")=List of 2\n",
      "  .. .. .. .. .. ..$ : chr [1:235325] \"chrX:143482906-143483206\" \"chr6:3200976-3201276\" \"chr9:123461850-123462150\" \"chr1:56782095-56782395\" ...\n",
      "  .. .. .. .. .. ..$ : chr [1:50] \"LSI_1\" \"LSI_2\" \"LSI_3\" \"LSI_4\" ...\n",
      "  .. .. .. ..@ feature.loadings.projected: num[0 , 0 ] \n",
      "  .. .. .. ..@ assay.used                : chr \"ATAC\"\n",
      "  .. .. .. ..@ global                    : logi FALSE\n",
      "  .. .. .. ..@ stdev                     : num [1:50] 3.287 1.035 0.784 0.752 0.691 ...\n",
      "  .. .. .. ..@ key                       : chr \"LSI_\"\n",
      "  .. .. .. ..@ jackstraw                 :Formal class 'JackStrawData' [package \"Seurat\"] with 4 slots\n",
      "  .. .. .. .. .. ..@ empirical.p.values     : num[0 , 0 ] \n",
      "  .. .. .. .. .. ..@ fake.reduction.scores  : num[0 , 0 ] \n",
      "  .. .. .. .. .. ..@ empirical.p.values.full: num[0 , 0 ] \n",
      "  .. .. .. .. .. ..@ overall.p.values       : num[0 , 0 ] \n",
      "  .. .. .. ..@ misc                      : list()\n",
      "  .. ..$ umap:Formal class 'DimReduc' [package \"Seurat\"] with 9 slots\n",
      "  .. .. .. ..@ cell.embeddings           : num [1:34774, 1:2] 10.37 9.48 11.23 -3.94 11.66 ...\n",
      "  .. .. .. .. ..- attr(*, \"scaled:center\")= num [1:2] 0.408 -0.286\n",
      "  .. .. .. .. ..- attr(*, \"dimnames\")=List of 2\n",
      "  .. .. .. .. .. ..$ : chr [1:34774] \"R1.01.R2.01.R3.06.P1.55\" \"R1.01.R2.03.R3.68.P1.55\" \"R1.01.R2.05.R3.15.P1.53\" \"R1.01.R2.05.R3.40.P1.55\" ...\n",
      "  .. .. .. .. .. ..$ : chr [1:2] \"UMAP_1\" \"UMAP_2\"\n",
      "  .. .. .. ..@ feature.loadings          : num[0 , 0 ] \n",
      "  .. .. .. ..@ feature.loadings.projected: num[0 , 0 ] \n",
      "  .. .. .. ..@ assay.used                : chr \"ATAC\"\n",
      "  .. .. .. ..@ global                    : logi TRUE\n",
      "  .. .. .. ..@ stdev                     : num(0) \n",
      "  .. .. .. ..@ key                       : chr \"UMAP_\"\n",
      "  .. .. .. ..@ jackstraw                 :Formal class 'JackStrawData' [package \"Seurat\"] with 4 slots\n",
      "  .. .. .. .. .. ..@ empirical.p.values     : num[0 , 0 ] \n",
      "  .. .. .. .. .. ..@ fake.reduction.scores  : num[0 , 0 ] \n",
      "  .. .. .. .. .. ..@ empirical.p.values.full: num[0 , 0 ] \n",
      "  .. .. .. .. .. ..@ overall.p.values       : num[0 , 0 ] \n",
      "  .. .. .. ..@ misc                      : list()\n",
      "  ..@ images      : list()\n",
      "  ..@ project.name: chr \"10x_ATAC\"\n",
      "  ..@ misc        : list()\n",
      "  ..@ version     :Classes 'package_version', 'numeric_version'  hidden list of 1\n",
      "  .. ..$ : int [1:3] 3 2 3\n",
      "  ..@ commands    :List of 5\n",
      "  .. ..$ FindVariableFeatures.ACTIVITY:Formal class 'SeuratCommand' [package \"Seurat\"] with 5 slots\n",
      "  .. .. .. ..@ name       : chr \"FindVariableFeatures.ACTIVITY\"\n",
      "  .. .. .. ..@ time.stamp : POSIXct[1:1], format: \"2021-02-04 10:43:18\"\n",
      "  .. .. .. ..@ assay.used : chr \"ACTIVITY\"\n",
      "  .. .. .. ..@ call.string: chr \"FindVariableFeatures(atac)\"\n",
      "  .. .. .. ..@ params     :List of 12\n",
      "  .. .. .. .. ..$ assay              : chr \"ACTIVITY\"\n",
      "  .. .. .. .. ..$ selection.method   : chr \"vst\"\n",
      "  .. .. .. .. ..$ loess.span         : num 0.3\n",
      "  .. .. .. .. ..$ clip.max           : chr \"auto\"\n",
      "  .. .. .. .. ..$ mean.function      :function (mat, display_progress)  \n",
      "  .. .. .. .. ..$ dispersion.function:function (mat, display_progress)  \n",
      "  .. .. .. .. ..$ num.bin            : num 20\n",
      "  .. .. .. .. ..$ binning.method     : chr \"equal_width\"\n",
      "  .. .. .. .. ..$ nfeatures          : num 2000\n",
      "  .. .. .. .. ..$ mean.cutoff        : num [1:2] 0.1 8\n",
      "  .. .. .. .. ..$ dispersion.cutoff  : num [1:2] 1 Inf\n",
      "  .. .. .. .. ..$ verbose            : logi TRUE\n",
      "  .. ..$ NormalizeData.ACTIVITY       :Formal class 'SeuratCommand' [package \"Seurat\"] with 5 slots\n",
      "  .. .. .. ..@ name       : chr \"NormalizeData.ACTIVITY\"\n",
      "  .. .. .. ..@ time.stamp : POSIXct[1:1], format: \"2021-02-04 10:43:20\"\n",
      "  .. .. .. ..@ assay.used : chr \"ACTIVITY\"\n",
      "  .. .. .. ..@ call.string: chr \"NormalizeData(atac)\"\n",
      "  .. .. .. ..@ params     :List of 5\n",
      "  .. .. .. .. ..$ assay               : chr \"ACTIVITY\"\n",
      "  .. .. .. .. ..$ normalization.method: chr \"LogNormalize\"\n",
      "  .. .. .. .. ..$ scale.factor        : num 10000\n",
      "  .. .. .. .. ..$ margin              : num 1\n",
      "  .. .. .. .. ..$ verbose             : logi TRUE\n",
      "  .. ..$ ScaleData.ACTIVITY           :Formal class 'SeuratCommand' [package \"Seurat\"] with 5 slots\n",
      "  .. .. .. ..@ name       : chr \"ScaleData.ACTIVITY\"\n",
      "  .. .. .. ..@ time.stamp : POSIXct[1:1], format: \"2021-02-04 10:43:22\"\n",
      "  .. .. .. ..@ assay.used : chr \"ACTIVITY\"\n",
      "  .. .. .. ..@ call.string: chr \"ScaleData(atac)\"\n",
      "  .. .. .. ..@ params     :List of 10\n",
      "  .. .. .. .. ..$ features          : chr [1:2000] \"Col3a1\" \"Col1a2\" \"Gm23518\" \"Krtap17-1\" ...\n",
      "  .. .. .. .. ..$ assay             : chr \"ACTIVITY\"\n",
      "  .. .. .. .. ..$ model.use         : chr \"linear\"\n",
      "  .. .. .. .. ..$ use.umi           : logi FALSE\n",
      "  .. .. .. .. ..$ do.scale          : logi TRUE\n",
      "  .. .. .. .. ..$ do.center         : logi TRUE\n",
      "  .. .. .. .. ..$ scale.max         : num 10\n",
      "  .. .. .. .. ..$ block.size        : num 1000\n",
      "  .. .. .. .. ..$ min.cells.to.block: num 3000\n",
      "  .. .. .. .. ..$ verbose           : logi TRUE\n",
      "  .. ..$ RunLSI.ATAC                  :Formal class 'SeuratCommand' [package \"Seurat\"] with 5 slots\n",
      "  .. .. .. ..@ name       : chr \"RunLSI.ATAC\"\n",
      "  .. .. .. ..@ time.stamp : POSIXct[1:1], format: \"2021-02-04 10:49:11\"\n",
      "  .. .. .. ..@ assay.used : chr \"ATAC\"\n",
      "  .. .. .. ..@ call.string: chr \"RunLSI(atac, n = 50, scale.max = NULL)\"\n",
      "  .. .. .. ..@ params     :List of 5\n",
      "  .. .. .. .. ..$ assay         : chr \"ATAC\"\n",
      "  .. .. .. .. ..$ n             : num 50\n",
      "  .. .. .. .. ..$ reduction.key : chr \"LSI_\"\n",
      "  .. .. .. .. ..$ reduction.name: chr \"lsi\"\n",
      "  .. .. .. .. ..$ verbose       : logi TRUE\n",
      "  .. ..$ RunUMAP.ATAC.lsi             :Formal class 'SeuratCommand' [package \"Seurat\"] with 5 slots\n",
      "  .. .. .. ..@ name       : chr \"RunUMAP.ATAC.lsi\"\n",
      "  .. .. .. ..@ time.stamp : POSIXct[1:1], format: \"2021-02-04 10:50:38\"\n",
      "  .. .. .. ..@ assay.used : chr \"ATAC\"\n",
      "  .. .. .. ..@ call.string: chr \"RunUMAP(atac, reduction = \\\"lsi\\\", dims = 1:50)\"\n",
      "  .. .. .. ..@ params     :List of 22\n",
      "  .. .. .. .. ..$ dims                : int [1:50] 1 2 3 4 5 6 7 8 9 10 ...\n",
      "  .. .. .. .. ..$ reduction           : chr \"lsi\"\n",
      "  .. .. .. .. ..$ assay               : chr \"ATAC\"\n",
      "  .. .. .. .. ..$ slot                : chr \"data\"\n",
      "  .. .. .. .. ..$ umap.method         : chr \"uwot\"\n",
      "  .. .. .. .. ..$ return.model        : logi FALSE\n",
      "  .. .. .. .. ..$ n.neighbors         : int 30\n",
      "  .. .. .. .. ..$ n.components        : int 2\n",
      "  .. .. .. .. ..$ metric              : chr \"cosine\"\n",
      "  .. .. .. .. ..$ learning.rate       : num 1\n",
      "  .. .. .. .. ..$ min.dist            : num 0.3\n",
      "  .. .. .. .. ..$ spread              : num 1\n",
      "  .. .. .. .. ..$ set.op.mix.ratio    : num 1\n",
      "  .. .. .. .. ..$ local.connectivity  : int 1\n",
      "  .. .. .. .. ..$ repulsion.strength  : num 1\n",
      "  .. .. .. .. ..$ negative.sample.rate: int 5\n",
      "  .. .. .. .. ..$ uwot.sgd            : logi FALSE\n",
      "  .. .. .. .. ..$ seed.use            : int 42\n",
      "  .. .. .. .. ..$ angular.rp.forest   : logi FALSE\n",
      "  .. .. .. .. ..$ verbose             : logi TRUE\n",
      "  .. .. .. .. ..$ reduction.name      : chr \"umap\"\n",
      "  .. .. .. .. ..$ reduction.key       : chr \"UMAP_\"\n",
      "  ..@ tools       : list()\n"
     ]
    }
   ],
   "source": [
    "str(atac)"
   ]
  },
  {
   "cell_type": "code",
   "execution_count": 4,
   "metadata": {},
   "outputs": [],
   "source": [
    "activity.matrix <- atac@assays$ACTIVITY@counts"
   ]
  },
  {
   "cell_type": "code",
   "execution_count": 6,
   "metadata": {},
   "outputs": [],
   "source": [
    "rna_count = data[[\"Gene Expression\"]]\n",
    "shared_genes = intersect(rownames(rna_count), rownames(activity.matrix))\n",
    "shared_cells = intersect(colnames(rna_count), colnames(activity.matrix))\n",
    "rna_count <- rna_count[,shared_cells]\n",
    "activity.matrix <- activity.matrix[,shared_cells]\n",
    "colnames(rna_count) = paste0(\"rna.\", colnames(rna_count))\n",
    "colnames(activity.matrix) = paste0(\"atac.\", colnames(activity.matrix))"
   ]
  },
  {
   "cell_type": "code",
   "execution_count": 7,
   "metadata": {},
   "outputs": [],
   "source": [
    "cat_count_matrix = cbind(rna_count[shared_genes,], activity.matrix[shared_genes,])"
   ]
  },
  {
   "cell_type": "code",
   "execution_count": 10,
   "metadata": {},
   "outputs": [
    {
     "data": {
      "text/html": [],
      "text/latex": [],
      "text/markdown": [],
      "text/plain": [
       "named integer(0)"
      ]
     },
     "metadata": {},
     "output_type": "display_data"
    }
   ],
   "source": [
    "#vars = apply(cat_count_matrix, 1, var)\n",
    "which(vars == 0)"
   ]
  },
  {
   "cell_type": "code",
   "execution_count": 13,
   "metadata": {},
   "outputs": [
    {
     "data": {
      "text/html": [
       "0"
      ],
      "text/latex": [
       "0"
      ],
      "text/markdown": [
       "0"
      ],
      "text/plain": [
       "[1] 0"
      ]
     },
     "metadata": {},
     "output_type": "display_data"
    }
   ],
   "source": [
    "sum(vars==0)"
   ]
  },
  {
   "cell_type": "code",
   "execution_count": 9,
   "metadata": {},
   "outputs": [
    {
     "name": "stdout",
     "output_type": "stream",
     "text": [
      "Formal class 'dgCMatrix' [package \"Matrix\"] with 6 slots\n",
      "  ..@ i       : int [1:89421510] 105 902 912 1048 1078 1119 1174 1185 1206 1267 ...\n",
      "  ..@ p       : int [1:69549] 0 312 742 1515 2279 2735 3869 4164 4852 6468 ...\n",
      "  ..@ Dim     : int [1:2] 16743 69548\n",
      "  ..@ Dimnames:List of 2\n",
      "  .. ..$ : chr [1:16743] \"0610009B22Rik\" \"0610009L18Rik\" \"0610010F05Rik\" \"0610025J13Rik\" ...\n",
      "  .. ..$ : chr [1:69548] \"rna.R1.01.R2.01.R3.06.P1.55\" \"rna.R1.01.R2.03.R3.68.P1.55\" \"rna.R1.01.R2.05.R3.15.P1.53\" \"rna.R1.01.R2.05.R3.40.P1.55\" ...\n",
      "  ..@ x       : num [1:89421510] 1 1 1 1 1 1 1 1 1 1 ...\n",
      "  ..@ factors : list()\n"
     ]
    }
   ],
   "source": [
    "str(cat_count_matrix)"
   ]
  },
  {
   "cell_type": "code",
   "execution_count": 14,
   "metadata": {},
   "outputs": [],
   "source": [
    "cat_mat.pca = prcomp(t(as.matrix(cat_count_matrix)), center = T, scale. = T, rank. = 20)"
   ]
  },
  {
   "cell_type": "markdown",
   "metadata": {},
   "source": [
    "## Incorporate cell type"
   ]
  },
  {
   "cell_type": "code",
   "execution_count": 15,
   "metadata": {},
   "outputs": [],
   "source": [
    "meta <- read.table(\"../../data/mouse-skin/GSM4156597_skin_celltype.txt\", stringsAsFactors = F, head = T)"
   ]
  },
  {
   "cell_type": "code",
   "execution_count": 16,
   "metadata": {},
   "outputs": [],
   "source": [
    "meta.ft = c(meta$celltype, meta$celltype)\n",
    "names(meta.ft) = c(paste0(\"rna.\", meta$rna.bc), paste0(\"atac.\", meta$rna.bc))"
   ]
  },
  {
   "cell_type": "code",
   "execution_count": 18,
   "metadata": {},
   "outputs": [
    {
     "name": "stdout",
     "output_type": "stream",
     "text": [
      "List of 5\n",
      " $ sdev    : num [1:16743] 41 12.54 7.62 6.71 5.09 ...\n",
      " $ rotation: num [1:16743, 1:20] 0.00954 0.00338 0.00911 0.00622 0.00655 ...\n",
      "  ..- attr(*, \"dimnames\")=List of 2\n",
      "  .. ..$ : chr [1:16743] \"0610009B22Rik\" \"0610009L18Rik\" \"0610010F05Rik\" \"0610025J13Rik\" ...\n",
      "  .. ..$ : chr [1:20] \"PC1\" \"PC2\" \"PC3\" \"PC4\" ...\n",
      " $ center  : Named num [1:16743] 0.0915 0.0116 0.1238 0.0356 0.0716 ...\n",
      "  ..- attr(*, \"names\")= chr [1:16743] \"0610009B22Rik\" \"0610009L18Rik\" \"0610010F05Rik\" \"0610025J13Rik\" ...\n",
      " $ scale   : Named num [1:16743] 0.354 0.11 0.416 0.223 0.325 ...\n",
      "  ..- attr(*, \"names\")= chr [1:16743] \"0610009B22Rik\" \"0610009L18Rik\" \"0610010F05Rik\" \"0610025J13Rik\" ...\n",
      " $ x       : num [1:69548, 1:20] -27.6 -25.9 -19.7 -20 -25.4 ...\n",
      "  ..- attr(*, \"dimnames\")=List of 2\n",
      "  .. ..$ : chr [1:69548] \"rna.R1.01.R2.01.R3.06.P1.55\" \"rna.R1.01.R2.03.R3.68.P1.55\" \"rna.R1.01.R2.05.R3.15.P1.53\" \"rna.R1.01.R2.05.R3.40.P1.55\" ...\n",
      "  .. ..$ : chr [1:20] \"PC1\" \"PC2\" \"PC3\" \"PC4\" ...\n",
      " - attr(*, \"class\")= chr \"prcomp\"\n"
     ]
    }
   ],
   "source": [
    "str(cat_mat.pca)"
   ]
  },
  {
   "cell_type": "code",
   "execution_count": 19,
   "metadata": {
    "scrolled": false
   },
   "outputs": [],
   "source": [
    "embedding = as.data.frame(cat_mat.pca$x[,1:20])\n",
    "stopifnot(rownames(embedding) != embedding$bc)\n",
    "embedding$cell_type = factor(meta.ft[rownames(embedding)])"
   ]
  },
  {
   "cell_type": "code",
   "execution_count": 20,
   "metadata": {},
   "outputs": [],
   "source": [
    "embedding$batch = as.numeric(factor(sapply(strsplit(rownames(embedding), split = \".\", fixed = T), function(s) paste0(s[2:length(s)], collapse = \".\"))))"
   ]
  },
  {
   "cell_type": "code",
   "execution_count": 21,
   "metadata": {},
   "outputs": [
    {
     "name": "stdout",
     "output_type": "stream",
     "text": [
      "'data.frame':\t69548 obs. of  22 variables:\n",
      " $ PC1      : num  -27.6 -25.9 -19.7 -20 -25.4 ...\n",
      " $ PC2      : num  2.386 -0.933 -10.604 -9.345 -1.75 ...\n",
      " $ PC3      : num  3.41 3.38 4.51 5.16 4.17 ...\n",
      " $ PC4      : num  -3.94 -5.44 -9.14 -10.12 -6.34 ...\n",
      " $ PC5      : num  -4.94 -4.93 -10.57 -14.5 -5.65 ...\n",
      " $ PC6      : num  2.67 1.96 3.82 2.81 1.59 ...\n",
      " $ PC7      : num  2.22 1.82 4.91 3.62 3.43 ...\n",
      " $ PC8      : num  -0.689 -0.389 -0.134 -1.307 -0.479 ...\n",
      " $ PC9      : num  -3.32 1.91 -8.47 11.94 -3.22 ...\n",
      " $ PC10     : num  4.36 1.91 5.34 2.55 3.75 ...\n",
      " $ PC11     : num  -0.636 -1.781 -4.075 -3.814 -1.372 ...\n",
      " $ PC12     : num  -1.82 -1.83 -3.93 -6.28 -3.13 ...\n",
      " $ PC13     : num  0.19919 0.00944 0.51446 0.41892 0.07957 ...\n",
      " $ PC14     : num  0.3451 -0.4878 0.2739 -0.0867 -0.5559 ...\n",
      " $ PC15     : num  -0.0886 -0.3191 0.281 -0.3893 -0.8238 ...\n",
      " $ PC16     : num  0.74337 -0.36865 -0.19395 -0.00269 1.05833 ...\n",
      " $ PC17     : num  -1.0641 0.3398 -0.6925 0.0297 -0.8814 ...\n",
      " $ PC18     : num  0.574 0.256 -0.665 1.429 0.941 ...\n",
      " $ PC19     : num  0.938 -0.156 4.658 -1.53 0.513 ...\n",
      " $ PC20     : num  1.0198 0.0737 6.3522 -1.4006 -0.7017 ...\n",
      " $ cell_type: Factor w/ 23 levels \"ahighCD34+_bulge\",..: 4 4 4 4 4 4 4 4 4 4 ...\n",
      " $ batch    : num  1 9 16 18 19 22 32 38 43 46 ...\n"
     ]
    }
   ],
   "source": [
    "str(embedding)"
   ]
  },
  {
   "cell_type": "code",
   "execution_count": 22,
   "metadata": {},
   "outputs": [],
   "source": [
    "write.table(embedding, \"../../Raw/mouse-skin/integrated_embedding.txt\", quote = F, sep = \"\\t\")"
   ]
  }
 ],
 "metadata": {
  "kernelspec": {
   "display_name": "R",
   "language": "R",
   "name": "ir"
  },
  "language_info": {
   "codemirror_mode": "r",
   "file_extension": ".r",
   "mimetype": "text/x-r-source",
   "name": "R",
   "pygments_lexer": "r",
   "version": "3.6.3"
  }
 },
 "nbformat": 4,
 "nbformat_minor": 4
}
